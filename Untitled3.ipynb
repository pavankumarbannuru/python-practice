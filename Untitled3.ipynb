{
 "cells": [
  {
   "cell_type": "markdown",
   "id": "d747a120",
   "metadata": {},
   "source": [
    "************************************Question 1***********************************\n",
    "Given two arrays, arr1 and arr2 of equal length N, the task is to find if the given arrays are equal or not. \n",
    "\n",
    "Two arrays are said to be equal if:\n",
    "both of them contain the same set of elements, \n",
    "arrangements (or permutations) of elements might/might not be same.\n",
    "If there are repetitions, then counts of repeated elements must also be the same for two arrays to be equal.\n",
    "\n",
    "Input: arr1[] = {1, 2, 5, 4, 0}, arr2[] = {2, 4, 5, 0, 1}\n",
    "Output: Yes\n",
    "\n",
    "Input: arr1[] = {1, 2, 5, 4, 0, 2, 1}, arr2[] = {2, 4, 5, 0, 1, 1, 2} \n",
    "Output: Yes\n",
    "\n",
    "Input: arr1[] = {1, 7, 1}, arr2[] = {7, 7, 1}\n",
    "Output: No\n",
    "\n",
    "Expected Time Complexity = O(n)\n",
    "\n",
    "\n",
    "\n",
    "***********************Question 2*************************************\n",
    "Given an array A of positive integers. Your task is to find the leaders in the array. \n",
    "An element of array is leader if it is greater than or equal to all the elements to its right side. The rightmost element is always a leader.\n",
    "\n",
    "\n",
    "Input:\n",
    "n = 6\n",
    "A[] = {16,17,4,3,5,2}\n",
    "Output: 17 5 2\n",
    "Explanation: The first leader is 17 \n",
    "as it is greater than all the elements\n",
    "to its right.  Similarly, the next \n",
    "leader is 5. The right most element \n",
    "is always a leader so it is also \n",
    "included.\n",
    "\n",
    "Input:\n",
    "n = 5\n",
    "A[] = {1,2,3,4,0}\n",
    "Output: 4 0\n",
    "Expected Time Complexity: O(n) \n",
    "\n",
    "\n",
    "\n",
    "\n",
    "****************************************Question 3******************************************************\n",
    "Given an array of integers, find the length of the longest sub-sequence such that elements in the subsequence are consecutive integers, the consecutive numbers can be in any order.\n",
    "Input: arr[] = {1, 9, 3, 10, 4, 20, 2}\n",
    "Output: 4\n",
    "Explanation: The subsequence 1, 3, 4, 2 is the longest subsequence of consecutive elements\n",
    "\n",
    "Input: arr[] = {36, 41, 56, 35, 44, 33, 34, 92, 43, 32, 42}\n",
    "Output: 5\n",
    "Explanation: The subsequence 36, 35, 33, 34, 32 is the longest subsequence of consecutive elements.\n",
    "\n",
    "\n",
    "\n",
    "\n",
    "***********************************Question 4************************************************************\n",
    "Given an unsorted array Arr of size N of positive integers. One number 'A' from set {1, 2, …N} is missing and one number 'B' occurs twice in array. Find these two numbers.\n",
    "Input:\n",
    "N = 2\n",
    "Arr[] = {2, 2}\n",
    "Output: 2 1\n",
    "Explanation: Repeating number is 2 and \n",
    "smallest positive missing number is 1.\n",
    "Input:\n",
    "N = 4\n",
    "Arr[] = {1, 3, 3}\n",
    "Output: 3 2\n",
    "Explanation: Repeating number is 3 and \n",
    "smallest positive missing number is 2.s\n",
    "\n",
    "\n",
    "\n",
    "\n",
    "\n",
    "\n",
    "******************** SQL *********************************\n",
    "\n",
    "1. Write a SQL query to find all numbers that appear at least three times consecutively.\n",
    "\n",
    "Ex 1 \n",
    "+----+-----+\n",
    "| Id | Num |\n",
    "+----+-----+\n",
    "| 1 | 1 |\n",
    "| 2 | 1 |\n",
    "| 3 | 1 |\n",
    "| 4 | 2 |\n",
    "| 5 | 1 |\n",
    "\n",
    "given the above Logs table, 1 is the only number that appears consecutively for at least three times.\n",
    "\n",
    "\n",
    "\n",
    "2. Write a SQL query to get the nth highest salary from the Employee table.\n",
    "\n",
    "+----+--------+\n",
    "| Id | Salary |\n",
    "+----+--------+\n",
    "| 1 | 100 |\n",
    "| 2 | 200 |\n",
    "| 3 | 300 |\n",
    "\n",
    "\n",
    "For example, given the above Employee table, the nth highest salary where n = 2 is 200. If there is no nth highest salary, then the query should return null.\n",
    "\n",
    "\n",
    "\n",
    "\n"
   ]
  },
  {
   "cell_type": "markdown",
   "id": "ff9940fd",
   "metadata": {},
   "source": [
    "1. ************************************Question 1***********************************\n",
    "Given two arrays, arr1 and arr2 of equal length N, the task is to find if the given arrays are equal or not. \n",
    "\n",
    "Two arrays are said to be equal if:\n",
    "both of them contain the same set of elements, \n",
    "arrangements (or permutations) of elements might/might not be same.\n",
    "If there are repetitions, then counts of repeated elements must also be the same for two arrays to be equal.\n",
    "\n",
    "Input: arr1[] = {1, 2, 5, 4, 0}, arr2[] = {2, 4, 5, 0, 1}\n",
    "Output: Yes\n",
    "\n",
    "Input: arr1[] = {1, 2, 5, 4, 0, 2, 1}, arr2[] = {2, 4, 5, 0, 1, 1, 2} \n",
    "Output: Yes\n",
    "\n",
    "Input: arr1[] = {1, 7, 1}, arr2[] = {7, 7, 1}\n",
    "Output: No\n",
    "\n",
    "Expected Time Complexity = O(n)"
   ]
  },
  {
   "cell_type": "code",
   "execution_count": 13,
   "id": "1df0d623",
   "metadata": {
    "ExecuteTime": {
     "end_time": "2023-03-02T09:50:16.288503Z",
     "start_time": "2023-03-02T09:50:16.279840Z"
    }
   },
   "outputs": [
    {
     "name": "stdout",
     "output_type": "stream",
     "text": [
      "yes\n"
     ]
    }
   ],
   "source": [
    "for i in range(len(l1)):\n",
    "    for j in range(len(l1)):\n",
    "        if l1[i]!=l2[j]:\n",
    "            break \n",
    "            print('NO')\n",
    "        else:\n",
    "            print('yes')\n",
    "    "
   ]
  },
  {
   "cell_type": "markdown",
   "id": "075a251b",
   "metadata": {},
   "source": [
    "2. Given an array A of positive integers. Your task is to find the leaders in the array. \n",
    "An element of array is leader if it is greater than or equal to all the elements to its right side. The rightmost element is always a leader.\n",
    "\n",
    "\n",
    "Input:\n",
    "n = 6\n",
    "A[] = {16,17,4,3,5,2}\n",
    "Output: 17 5 2\n",
    "Explanation: The first leader is 17 \n",
    "as it is greater than all the elements\n",
    "to its right.  Similarly, the next \n",
    "leader is 5. The right most element \n",
    "is always a leader so it is also \n",
    "included.\n",
    "\n",
    "Input:\n",
    "n = 5\n",
    "A[] = {1,2,3,4,0}\n",
    "Output: 4 0\n",
    "Expected Time Complexity: O(n) "
   ]
  },
  {
   "cell_type": "code",
   "execution_count": 42,
   "id": "3ad1f96c",
   "metadata": {
    "ExecuteTime": {
     "end_time": "2023-03-02T10:20:50.478429Z",
     "start_time": "2023-03-02T10:20:50.473038Z"
    }
   },
   "outputs": [],
   "source": [
    "arr=[16,17,4,3,5,2]\n",
    "def leader(arr,x):\n",
    "    for i in range(0,x):\n",
    "        for j in range(i+1,x):\n",
    "            if arr[i]<=arr[j]:\n",
    "                break\n",
    "        if j==x-1:\n",
    "            print(arr[i],' ',end='')\n",
    "            \n",
    "        \n",
    "        "
   ]
  },
  {
   "cell_type": "code",
   "execution_count": 43,
   "id": "9e9d92f4",
   "metadata": {
    "ExecuteTime": {
     "end_time": "2023-03-02T10:20:51.347562Z",
     "start_time": "2023-03-02T10:20:51.332232Z"
    }
   },
   "outputs": [
    {
     "name": "stdout",
     "output_type": "stream",
     "text": [
      "17  5  2  "
     ]
    }
   ],
   "source": [
    "leader(l,len(l))"
   ]
  },
  {
   "cell_type": "markdown",
   "id": "26172ee4",
   "metadata": {},
   "source": [
    "3. Given an array of integers, find the length of the longest sub-sequence such that elements in the subsequence are consecutive integers, the consecutive numbers can be in any order.\n",
    "Input: arr[] = {1, 9, 3, 10, 4, 20, 2}\n",
    "Output: 4\n",
    "Explanation: The subsequence 1, 3, 4, 2 is the longest subsequence of consecutive elements\n",
    "\n",
    "Input: arr[] = {36, 41, 56, 35, 44, 33, 34, 92, 43, 32, 42}\n",
    "Output: 5\n",
    "Explanation: The subsequence 36, 35, 33, 34, 32 is the longest subsequence of consecutive elements.\n",
    "\n"
   ]
  },
  {
   "cell_type": "code",
   "execution_count": 14,
   "id": "18ad7a3e",
   "metadata": {
    "ExecuteTime": {
     "end_time": "2023-03-02T10:00:16.279809Z",
     "start_time": "2023-03-02T10:00:16.266606Z"
    }
   },
   "outputs": [],
   "source": [
    "arr=[1, 9, 3, 10, 4, 20, 2]\n",
    "def consec(arr):\n",
    "    arr=sort(arr)\n",
    "    n= len(arr)\n",
    "    max_len=0\n",
    "    curr_len=1\n",
    "    for i in range(1,n):\n",
    "        if arr[i] == arr[i-1]+1:\n",
    "            curr_len+=1\n",
    "        else:\n",
    "            max_len=max(max_len,curr_len)\n",
    "            curr_len=1"
   ]
  },
  {
   "cell_type": "code",
   "execution_count": null,
   "id": "8c7f47da",
   "metadata": {},
   "outputs": [],
   "source": []
  },
  {
   "cell_type": "code",
   "execution_count": null,
   "id": "6e49c1f0",
   "metadata": {},
   "outputs": [],
   "source": []
  },
  {
   "cell_type": "markdown",
   "id": "e892038b",
   "metadata": {},
   "source": [
    "4. \n",
    "Given an unsorted array Arr of size N of positive integers. One number 'A' from set {1, 2, …N} is missing and one number 'B' occurs twice in array. Find these two numbers.\n",
    "Input:\n",
    "N = 2\n",
    "Arr[] = {2, 2}\n",
    "Output: 2 1\n",
    "Explanation: Repeating number is 2 and \n",
    "smallest positive missing number is 1.\n",
    "Input:\n",
    "N = 4\n",
    "Arr[] = {1, 3, 3}\n",
    "Output: 3 2\n",
    "Explanation: Repeating number is 3 and \n",
    "smallest positive missing number is 2.s\n"
   ]
  },
  {
   "cell_type": "code",
   "execution_count": null,
   "id": "48fb3fb3",
   "metadata": {},
   "outputs": [],
   "source": []
  },
  {
   "cell_type": "code",
   "execution_count": null,
   "id": "5f123c2d",
   "metadata": {},
   "outputs": [],
   "source": []
  },
  {
   "cell_type": "code",
   "execution_count": null,
   "id": "22caef58",
   "metadata": {},
   "outputs": [],
   "source": []
  },
  {
   "cell_type": "code",
   "execution_count": null,
   "id": "93628aab",
   "metadata": {},
   "outputs": [],
   "source": [
    "1. Write a SQL query to find all numbers that appear at least three times consecutively.\n",
    "\n",
    "Ex 1 \n",
    "+----+-----+\n",
    "| Id | Num |\n",
    "+----+-----+\n",
    "| 1 | 1 |\n",
    "| 2 | 1 |\n",
    "| 3 | 1 |\n",
    "| 4 | 2 |\n",
    "| 5 | 1 |\n",
    "\n",
    "given the above Logs table, 1 is the only number that appears consecutively for at least three times.\n"
   ]
  },
  {
   "cell_type": "code",
   "execution_count": null,
   "id": "70a5fdae",
   "metadata": {},
   "outputs": [],
   "source": [
    "select num from table logs order by num where count(num)>2"
   ]
  },
  {
   "cell_type": "code",
   "execution_count": null,
   "id": "c3f9c4dd",
   "metadata": {},
   "outputs": [],
   "source": [
    "2. Write a SQL query to get the nth highest salary from the Employee table.\n",
    "\n",
    "+----+--------+\n",
    "| Id | Salary |\n",
    "+----+--------+\n",
    "| 1 | 100 |\n",
    "| 2 | 200 |\n",
    "| 3 | 300 |\n",
    "\n",
    "\n",
    "For example, given the above Employee table, the nth highest salary where n = 2 is 200. If there is no nth highest salary, then the query should return null.\n"
   ]
  },
  {
   "cell_type": "code",
   "execution_count": null,
   "id": "494667fd",
   "metadata": {},
   "outputs": [],
   "source": [
    "select * from table employee order by salary desc limit 1"
   ]
  },
  {
   "cell_type": "code",
   "execution_count": null,
   "id": "4dd6d1c6",
   "metadata": {},
   "outputs": [],
   "source": []
  }
 ],
 "metadata": {
  "kernelspec": {
   "display_name": "Python 3 (ipykernel)",
   "language": "python",
   "name": "python3"
  },
  "language_info": {
   "codemirror_mode": {
    "name": "ipython",
    "version": 3
   },
   "file_extension": ".py",
   "mimetype": "text/x-python",
   "name": "python",
   "nbconvert_exporter": "python",
   "pygments_lexer": "ipython3",
   "version": "3.9.13"
  }
 },
 "nbformat": 4,
 "nbformat_minor": 5
}
