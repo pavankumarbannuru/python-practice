{
 "cells": [
  {
   "cell_type": "code",
   "execution_count": 2,
   "id": "d015b962",
   "metadata": {
    "ExecuteTime": {
     "end_time": "2023-02-21T09:42:25.552108Z",
     "start_time": "2023-02-21T09:42:25.536087Z"
    }
   },
   "outputs": [
    {
     "name": "stdout",
     "output_type": "stream",
     "text": [
      "[5, 7, 9]\n"
     ]
    }
   ],
   "source": [
    "l1=[1,2,3]\n",
    "l2=[4,5,6]\n",
    "l=[]\n",
    "for i in range(len(l1)):\n",
    "    l.append(l1[i]+l2[i])\n",
    "print(l)\n",
    "    "
   ]
  },
  {
   "cell_type": "code",
   "execution_count": 3,
   "id": "1c368650",
   "metadata": {
    "ExecuteTime": {
     "end_time": "2023-02-21T09:42:58.882849Z",
     "start_time": "2023-02-21T09:42:58.862854Z"
    }
   },
   "outputs": [
    {
     "data": {
      "text/plain": [
       "[5, 7, 9]"
      ]
     },
     "execution_count": 3,
     "metadata": {},
     "output_type": "execute_result"
    }
   ],
   "source": [
    "[i+j for i,j in zip(l1,l2)]"
   ]
  },
  {
   "cell_type": "code",
   "execution_count": 5,
   "id": "29fdf1d2",
   "metadata": {
    "ExecuteTime": {
     "end_time": "2023-02-21T09:44:07.055188Z",
     "start_time": "2023-02-21T09:44:07.038186Z"
    }
   },
   "outputs": [
    {
     "data": {
      "text/plain": [
       "[5, 7, 9]"
      ]
     },
     "execution_count": 5,
     "metadata": {},
     "output_type": "execute_result"
    }
   ],
   "source": [
    "list(map(lambda x,y:x+y,l1,l2))"
   ]
  },
  {
   "cell_type": "code",
   "execution_count": 20,
   "id": "546c9220",
   "metadata": {
    "ExecuteTime": {
     "end_time": "2023-02-21T09:53:09.973572Z",
     "start_time": "2023-02-21T09:53:09.956583Z"
    }
   },
   "outputs": [],
   "source": [
    "#quick sort \n",
    "def qs(l):\n",
    "    if len(l)<1:\n",
    "        return l\n",
    "    else:\n",
    "        p=l[0]\n",
    "        left=[x for x in l[1:] if x<p]\n",
    "        right=[x for x in l[1:] if x>=p]\n",
    "        return qs(left)+[p]+qs(right)"
   ]
  },
  {
   "cell_type": "code",
   "execution_count": 47,
   "id": "f6f31da9",
   "metadata": {
    "ExecuteTime": {
     "end_time": "2023-02-21T10:15:04.327003Z",
     "start_time": "2023-02-21T10:15:04.318964Z"
    }
   },
   "outputs": [],
   "source": [
    "l=[225,124,22,3544,12,321,11,1]"
   ]
  },
  {
   "cell_type": "code",
   "execution_count": 36,
   "id": "5896c930",
   "metadata": {
    "ExecuteTime": {
     "end_time": "2023-02-21T10:11:51.134337Z",
     "start_time": "2023-02-21T10:11:51.125877Z"
    }
   },
   "outputs": [],
   "source": [
    "def quicksort(l):\n",
    "    if len(l)<1:\n",
    "        return l\n",
    "    else:\n",
    "        p=l[0]\n",
    "        left=[x for x in l[1:] if x<p]\n",
    "        right=[x for x in l[1:] if x>=p]\n",
    "        return quicksort(left)+[p]+quicksort(right)"
   ]
  },
  {
   "cell_type": "code",
   "execution_count": 37,
   "id": "44a75f2e",
   "metadata": {
    "ExecuteTime": {
     "end_time": "2023-02-21T10:11:54.096559Z",
     "start_time": "2023-02-21T10:11:54.083447Z"
    }
   },
   "outputs": [
    {
     "data": {
      "text/plain": [
       "[1, 11, 12, 22, 124, 225, 321, 3544]"
      ]
     },
     "execution_count": 37,
     "metadata": {},
     "output_type": "execute_result"
    }
   ],
   "source": [
    "quicksort(l)"
   ]
  },
  {
   "cell_type": "code",
   "execution_count": 11,
   "id": "0c6b8abb",
   "metadata": {
    "ExecuteTime": {
     "end_time": "2023-03-24T12:46:29.417430Z",
     "start_time": "2023-03-24T12:46:29.405834Z"
    }
   },
   "outputs": [],
   "source": [
    "def bubblesort(l):\n",
    "    for i in range(len(l)-1):\n",
    "        if l[i]>l[i+1]:\n",
    "            l[i],l[i+1]=l[i+1],l[i]\n",
    "            return bubblesort(l)\n",
    "    return l"
   ]
  },
  {
   "cell_type": "code",
   "execution_count": 12,
   "id": "27881373",
   "metadata": {
    "ExecuteTime": {
     "end_time": "2023-03-24T12:46:30.371519Z",
     "start_time": "2023-03-24T12:46:30.354292Z"
    }
   },
   "outputs": [
    {
     "data": {
      "text/plain": [
       "[2, 10, 11, 14, 223, 254]"
      ]
     },
     "execution_count": 12,
     "metadata": {},
     "output_type": "execute_result"
    }
   ],
   "source": [
    "bubblesort(l)"
   ]
  },
  {
   "cell_type": "code",
   "execution_count": 51,
   "id": "4ba6d468",
   "metadata": {
    "ExecuteTime": {
     "end_time": "2023-02-21T10:16:00.949371Z",
     "start_time": "2023-02-21T10:15:57.568733Z"
    }
   },
   "outputs": [
    {
     "name": "stdout",
     "output_type": "stream",
     "text": [
      "eneter a number1334\n"
     ]
    },
    {
     "data": {
      "text/plain": [
       "[1, 3, 3, 4]"
      ]
     },
     "execution_count": 51,
     "metadata": {},
     "output_type": "execute_result"
    }
   ],
   "source": [
    "list(map(int,input('eneter a number')))"
   ]
  },
  {
   "cell_type": "code",
   "execution_count": 52,
   "id": "3d4e9c55",
   "metadata": {
    "ExecuteTime": {
     "end_time": "2023-02-21T10:16:28.351907Z",
     "start_time": "2023-02-21T10:16:28.341727Z"
    }
   },
   "outputs": [
    {
     "data": {
      "text/plain": [
       "[1, 11, 12, 22, 124, 225, 321, 3544]"
      ]
     },
     "execution_count": 52,
     "metadata": {},
     "output_type": "execute_result"
    }
   ],
   "source": [
    "l"
   ]
  },
  {
   "cell_type": "code",
   "execution_count": 55,
   "id": "eaf7930f",
   "metadata": {
    "ExecuteTime": {
     "end_time": "2023-02-21T10:17:03.905669Z",
     "start_time": "2023-02-21T10:17:03.896926Z"
    }
   },
   "outputs": [],
   "source": [
    "l.remove(max(l))"
   ]
  },
  {
   "cell_type": "code",
   "execution_count": 56,
   "id": "19ae247a",
   "metadata": {
    "ExecuteTime": {
     "end_time": "2023-02-21T10:17:09.686325Z",
     "start_time": "2023-02-21T10:17:09.667086Z"
    }
   },
   "outputs": [
    {
     "data": {
      "text/plain": [
       "321"
      ]
     },
     "execution_count": 56,
     "metadata": {},
     "output_type": "execute_result"
    }
   ],
   "source": [
    "max(l)"
   ]
  },
  {
   "cell_type": "code",
   "execution_count": 58,
   "id": "8ec1fc76",
   "metadata": {
    "ExecuteTime": {
     "end_time": "2023-02-21T10:18:46.729375Z",
     "start_time": "2023-02-21T10:18:46.718375Z"
    }
   },
   "outputs": [
    {
     "data": {
      "text/plain": [
       "[2, 3, 4, 5]"
      ]
     },
     "execution_count": 58,
     "metadata": {},
     "output_type": "execute_result"
    }
   ],
   "source": [
    "list(map(lambda x: x+1,[1,2,3,4]))"
   ]
  },
  {
   "cell_type": "code",
   "execution_count": 61,
   "id": "d3d305c8",
   "metadata": {
    "ExecuteTime": {
     "end_time": "2023-02-21T10:19:50.790758Z",
     "start_time": "2023-02-21T10:19:50.774134Z"
    }
   },
   "outputs": [
    {
     "data": {
      "text/plain": [
       "[2, 4, 6]"
      ]
     },
     "execution_count": 61,
     "metadata": {},
     "output_type": "execute_result"
    }
   ],
   "source": [
    "list(map(lambda x:x+x,[1,2,3]))"
   ]
  },
  {
   "cell_type": "code",
   "execution_count": 64,
   "id": "26e08eec",
   "metadata": {
    "ExecuteTime": {
     "end_time": "2023-02-21T10:21:21.176734Z",
     "start_time": "2023-02-21T10:21:21.159081Z"
    }
   },
   "outputs": [
    {
     "name": "stdout",
     "output_type": "stream",
     "text": [
      "6\n"
     ]
    }
   ],
   "source": [
    "s=0\n",
    "for i in [1,2,3]:\n",
    "    s=s+i\n",
    "print(s)\n",
    "    "
   ]
  },
  {
   "cell_type": "code",
   "execution_count": 70,
   "id": "85d41a56",
   "metadata": {
    "ExecuteTime": {
     "end_time": "2023-02-21T10:35:01.100969Z",
     "start_time": "2023-02-21T10:35:01.089968Z"
    }
   },
   "outputs": [
    {
     "name": "stdout",
     "output_type": "stream",
     "text": [
      "{1: 5}{2: 6}{3: 7}{4: 8}{5: 9}"
     ]
    }
   ],
   "source": [
    "l1=[1,2,3,4,5]\n",
    "l2=[5,6,7,8,9]\n",
    "for i,j in zip(l1,l2):\n",
    "    print({i:j},end='')"
   ]
  },
  {
   "cell_type": "code",
   "execution_count": 75,
   "id": "9bb7d522",
   "metadata": {
    "ExecuteTime": {
     "end_time": "2023-02-21T10:37:17.182318Z",
     "start_time": "2023-02-21T10:37:17.172100Z"
    }
   },
   "outputs": [
    {
     "name": "stdout",
     "output_type": "stream",
     "text": [
      "{1: 2}{3: 4}{5: 6}"
     ]
    }
   ],
   "source": [
    "l=[1,2,3,4,5,6]\n",
    "for i in range(0,len(l),2):\n",
    "    print({l[i]:l[i+1]},end='')"
   ]
  },
  {
   "cell_type": "code",
   "execution_count": 76,
   "id": "218fc59c",
   "metadata": {
    "ExecuteTime": {
     "end_time": "2023-02-21T10:46:11.125413Z",
     "start_time": "2023-02-21T10:46:07.870810Z"
    }
   },
   "outputs": [
    {
     "name": "stdout",
     "output_type": "stream",
     "text": [
      "enter123\n"
     ]
    },
    {
     "data": {
      "text/plain": [
       "6"
      ]
     },
     "execution_count": 76,
     "metadata": {},
     "output_type": "execute_result"
    }
   ],
   "source": [
    "sum(map(int,input('enter')))"
   ]
  },
  {
   "cell_type": "code",
   "execution_count": 2,
   "id": "6ed7fff9",
   "metadata": {
    "ExecuteTime": {
     "end_time": "2023-04-05T01:54:11.788832Z",
     "start_time": "2023-04-05T01:54:11.778151Z"
    }
   },
   "outputs": [
    {
     "data": {
      "text/plain": [
       "144"
      ]
     },
     "execution_count": 2,
     "metadata": {},
     "output_type": "execute_result"
    }
   ],
   "source": [
    "sum(map(int,[1,'56',87]))"
   ]
  },
  {
   "cell_type": "code",
   "execution_count": 77,
   "id": "3f0e4f98",
   "metadata": {
    "ExecuteTime": {
     "end_time": "2023-02-21T10:46:28.476606Z",
     "start_time": "2023-02-21T10:46:28.467832Z"
    }
   },
   "outputs": [
    {
     "data": {
      "text/plain": [
       "6"
      ]
     },
     "execution_count": 77,
     "metadata": {},
     "output_type": "execute_result"
    }
   ],
   "source": [
    "sum([1,2,3])"
   ]
  },
  {
   "cell_type": "code",
   "execution_count": 81,
   "id": "2998eaf3",
   "metadata": {
    "ExecuteTime": {
     "end_time": "2023-02-21T11:09:03.843139Z",
     "start_time": "2023-02-21T11:09:03.834505Z"
    }
   },
   "outputs": [],
   "source": [
    "def kk(*args):\n",
    "    s=1\n",
    "    for i in args:\n",
    "        s=s*i\n",
    "    return s"
   ]
  },
  {
   "cell_type": "code",
   "execution_count": 82,
   "id": "58278345",
   "metadata": {
    "ExecuteTime": {
     "end_time": "2023-02-21T11:09:04.340735Z",
     "start_time": "2023-02-21T11:09:04.328129Z"
    }
   },
   "outputs": [
    {
     "data": {
      "text/plain": [
       "120"
      ]
     },
     "execution_count": 82,
     "metadata": {},
     "output_type": "execute_result"
    }
   ],
   "source": [
    "kk(1,2,3,4,5)"
   ]
  },
  {
   "cell_type": "code",
   "execution_count": 88,
   "id": "8cef9e31",
   "metadata": {
    "ExecuteTime": {
     "end_time": "2023-02-21T11:10:46.531767Z",
     "start_time": "2023-02-21T11:10:46.521767Z"
    }
   },
   "outputs": [],
   "source": [
    "def kk(*args):\n",
    "    s=0\n",
    "    for i in args:\n",
    "        s=s+i\n",
    "    return s"
   ]
  },
  {
   "cell_type": "code",
   "execution_count": 90,
   "id": "dec3394f",
   "metadata": {
    "ExecuteTime": {
     "end_time": "2023-02-21T11:13:43.266947Z",
     "start_time": "2023-02-21T11:13:43.252901Z"
    }
   },
   "outputs": [
    {
     "data": {
      "text/plain": [
       "15"
      ]
     },
     "execution_count": 90,
     "metadata": {},
     "output_type": "execute_result"
    }
   ],
   "source": [
    "kk(1,2,3,4,5)"
   ]
  },
  {
   "cell_type": "code",
   "execution_count": 91,
   "id": "2635d3ab",
   "metadata": {
    "ExecuteTime": {
     "end_time": "2023-02-21T12:00:49.387541Z",
     "start_time": "2023-02-21T12:00:49.377702Z"
    }
   },
   "outputs": [
    {
     "data": {
      "text/plain": [
       "[False, False, True, True]"
      ]
     },
     "execution_count": 91,
     "metadata": {},
     "output_type": "execute_result"
    }
   ],
   "source": [
    "list(map(lambda x:x>5,[1,2,37,8]))"
   ]
  },
  {
   "cell_type": "code",
   "execution_count": 93,
   "id": "70b91094",
   "metadata": {
    "ExecuteTime": {
     "end_time": "2023-02-21T12:01:39.228617Z",
     "start_time": "2023-02-21T12:01:39.208680Z"
    }
   },
   "outputs": [
    {
     "data": {
      "text/plain": [
       "[37, 8]"
      ]
     },
     "execution_count": 93,
     "metadata": {},
     "output_type": "execute_result"
    }
   ],
   "source": [
    "list(filter(lambda x:x>5,[1,2,37,8]))"
   ]
  },
  {
   "cell_type": "code",
   "execution_count": 96,
   "id": "b4e8fce8",
   "metadata": {
    "ExecuteTime": {
     "end_time": "2023-02-21T12:03:20.736500Z",
     "start_time": "2023-02-21T12:03:20.723582Z"
    }
   },
   "outputs": [
    {
     "data": {
      "text/plain": [
       "10"
      ]
     },
     "execution_count": 96,
     "metadata": {},
     "output_type": "execute_result"
    }
   ],
   "source": [
    "import functools\n",
    "functools.reduce(lambda x,y:x+y,[1,2,3,4])"
   ]
  },
  {
   "cell_type": "code",
   "execution_count": 98,
   "id": "cb78ef29",
   "metadata": {
    "ExecuteTime": {
     "end_time": "2023-02-21T12:18:19.151897Z",
     "start_time": "2023-02-21T12:18:19.141168Z"
    }
   },
   "outputs": [
    {
     "data": {
      "text/plain": [
       "15"
      ]
     },
     "execution_count": 98,
     "metadata": {},
     "output_type": "execute_result"
    }
   ],
   "source": [
    "from functools import reduce\n",
    "reduce(lambda x,y:x+y,[1,2,3,4,5])"
   ]
  },
  {
   "cell_type": "code",
   "execution_count": null,
   "id": "c59cd5bb",
   "metadata": {},
   "outputs": [],
   "source": [
    "153 = 1**3+5**3+3**3"
   ]
  },
  {
   "cell_type": "code",
   "execution_count": 12,
   "id": "bffbcee9",
   "metadata": {
    "ExecuteTime": {
     "end_time": "2023-03-02T09:03:31.245501Z",
     "start_time": "2023-03-02T09:03:31.238500Z"
    }
   },
   "outputs": [
    {
     "name": "stdout",
     "output_type": "stream",
     "text": [
      "153 its an amstrong\n",
      "370 its an amstrong\n",
      "371 its an amstrong\n",
      "407 its an amstrong\n"
     ]
    }
   ],
   "source": [
    "for i in range(100,1000):\n",
    "    n=i\n",
    "    a=0\n",
    "    for i in str(n):\n",
    "        s = int(i)**len(str(n))\n",
    "        a=a+s\n",
    "    if a==n:\n",
    "        print(n,'its an amstrong')\n",
    "  \n",
    "\n",
    "    "
   ]
  },
  {
   "cell_type": "code",
   "execution_count": null,
   "id": "d86439bf",
   "metadata": {},
   "outputs": [],
   "source": [
    "for num in range(100,1000):\n",
    "  temp=num\n",
    "  sum=0\n",
    "  while temp>0:\n",
    "      digit=temp%10\n",
    "      sum=sum+digit**3\n",
    "      temp=temp//10\n",
    "      if sum==num:\n",
    "           print (num)"
   ]
  },
  {
   "cell_type": "code",
   "execution_count": 18,
   "id": "7c7460be",
   "metadata": {
    "ExecuteTime": {
     "end_time": "2023-03-02T09:19:46.596528Z",
     "start_time": "2023-03-02T09:19:46.585518Z"
    }
   },
   "outputs": [],
   "source": [
    "num=153\n",
    "temp=num\n",
    "sum=0\n",
    "digit=temp%10\n",
    "sum=sum+digit**3\n",
    "temp=temp//10\n",
    "if sum==num:\n",
    "    print (num)"
   ]
  },
  {
   "cell_type": "code",
   "execution_count": 19,
   "id": "231a8313",
   "metadata": {
    "ExecuteTime": {
     "end_time": "2023-03-02T09:19:54.754687Z",
     "start_time": "2023-03-02T09:19:54.747685Z"
    }
   },
   "outputs": [
    {
     "data": {
      "text/plain": [
       "3"
      ]
     },
     "execution_count": 19,
     "metadata": {},
     "output_type": "execute_result"
    }
   ],
   "source": [
    "digit"
   ]
  },
  {
   "cell_type": "code",
   "execution_count": 20,
   "id": "5853ad82",
   "metadata": {
    "ExecuteTime": {
     "end_time": "2023-03-02T09:20:05.820746Z",
     "start_time": "2023-03-02T09:20:05.814481Z"
    }
   },
   "outputs": [
    {
     "data": {
      "text/plain": [
       "3"
      ]
     },
     "execution_count": 20,
     "metadata": {},
     "output_type": "execute_result"
    }
   ],
   "source": [
    "153%10"
   ]
  },
  {
   "cell_type": "code",
   "execution_count": 22,
   "id": "688f54a3",
   "metadata": {
    "ExecuteTime": {
     "end_time": "2023-03-02T09:20:24.749280Z",
     "start_time": "2023-03-02T09:20:24.744281Z"
    }
   },
   "outputs": [
    {
     "data": {
      "text/plain": [
       "15"
      ]
     },
     "execution_count": 22,
     "metadata": {},
     "output_type": "execute_result"
    }
   ],
   "source": [
    "153//10"
   ]
  },
  {
   "cell_type": "code",
   "execution_count": 23,
   "id": "8577ae1b",
   "metadata": {
    "ExecuteTime": {
     "end_time": "2023-03-02T09:20:32.746419Z",
     "start_time": "2023-03-02T09:20:32.734419Z"
    }
   },
   "outputs": [
    {
     "data": {
      "text/plain": [
       "5"
      ]
     },
     "execution_count": 23,
     "metadata": {},
     "output_type": "execute_result"
    }
   ],
   "source": [
    "15%10"
   ]
  },
  {
   "cell_type": "code",
   "execution_count": 24,
   "id": "19b63823",
   "metadata": {
    "ExecuteTime": {
     "end_time": "2023-03-02T09:20:45.495220Z",
     "start_time": "2023-03-02T09:20:45.486386Z"
    }
   },
   "outputs": [
    {
     "data": {
      "text/plain": [
       "1"
      ]
     },
     "execution_count": 24,
     "metadata": {},
     "output_type": "execute_result"
    }
   ],
   "source": [
    "15//10"
   ]
  },
  {
   "cell_type": "markdown",
   "id": "04e28dae",
   "metadata": {},
   "source": [
    "insert the correct method on line 3 in order to return the number of occurrences of the letter o in the string."
   ]
  },
  {
   "cell_type": "code",
   "execution_count": 1,
   "id": "87d40f8f",
   "metadata": {
    "ExecuteTime": {
     "end_time": "2023-03-17T11:37:10.729100Z",
     "start_time": "2023-03-17T11:37:10.698517Z"
    }
   },
   "outputs": [
    {
     "name": "stdout",
     "output_type": "stream",
     "text": [
      "5\n"
     ]
    }
   ],
   "source": [
    "my_string = \"In 2010, someone paid 10k Bitcoin for two pizzas.\"\n",
    "counter=0\n",
    "for i in my_string:\n",
    "    if i == 'o':\n",
    "        counter = counter+1\n",
    "print(counter)"
   ]
  },
  {
   "cell_type": "code",
   "execution_count": 2,
   "id": "c8606306",
   "metadata": {
    "ExecuteTime": {
     "end_time": "2023-03-17T11:37:36.925793Z",
     "start_time": "2023-03-17T11:37:36.914759Z"
    }
   },
   "outputs": [
    {
     "name": "stdout",
     "output_type": "stream",
     "text": [
      "5\n"
     ]
    }
   ],
   "source": [
    "print(my_string.count(\"o\"))"
   ]
  },
  {
   "cell_type": "code",
   "execution_count": 1,
   "id": "805164fe",
   "metadata": {
    "ExecuteTime": {
     "end_time": "2023-03-18T03:26:15.128572Z",
     "start_time": "2023-03-18T03:26:15.102513Z"
    }
   },
   "outputs": [
    {
     "name": "stdout",
     "output_type": "stream",
     "text": [
      "IN 2010, SOMEONE PAID 10K BITCOIN FOR TWO PIZZAS.\n"
     ]
    }
   ],
   "source": [
    "my_string = \"In 2010, someone paid 10k Bitcoin for two pizzas.\"\n",
    "\n",
    "print(my_string.upper())"
   ]
  },
  {
   "cell_type": "code",
   "execution_count": 2,
   "id": "98300243",
   "metadata": {
    "ExecuteTime": {
     "end_time": "2023-03-18T03:26:18.669176Z",
     "start_time": "2023-03-18T03:26:18.660605Z"
    }
   },
   "outputs": [
    {
     "name": "stdout",
     "output_type": "stream",
     "text": [
      "26\n"
     ]
    }
   ],
   "source": [
    "my_string = \"In 2010, someone paid 10k Bitcoin for two pizzas.\"\n",
    "\n",
    "print(my_string.index('B'))"
   ]
  },
  {
   "cell_type": "code",
   "execution_count": 3,
   "id": "e5d928da",
   "metadata": {
    "ExecuteTime": {
     "end_time": "2023-03-18T03:26:36.613382Z",
     "start_time": "2023-03-18T03:26:36.605231Z"
    }
   },
   "outputs": [
    {
     "name": "stdout",
     "output_type": "stream",
     "text": [
      "26\n"
     ]
    }
   ],
   "source": [
    "my_string = \"In 2010, someone paid 10k Bitcoin for two pizzas.\"\n",
    " \n",
    "print(my_string.find(\"Bitcoin\"))"
   ]
  },
  {
   "cell_type": "code",
   "execution_count": 4,
   "id": "378ae140",
   "metadata": {
    "ExecuteTime": {
     "end_time": "2023-03-18T03:28:58.978509Z",
     "start_time": "2023-03-18T03:28:58.965830Z"
    }
   },
   "outputs": [
    {
     "name": "stdout",
     "output_type": "stream",
     "text": [
      "False\n"
     ]
    }
   ],
   "source": [
    "my_string = \"In 2010, someone paid 10k Bitcoin for two pizzas.\"\n",
    "\n",
    "print(my_string.startswith('X'))"
   ]
  },
  {
   "cell_type": "code",
   "execution_count": 5,
   "id": "b8ebb236",
   "metadata": {
    "ExecuteTime": {
     "end_time": "2023-03-18T03:30:30.408359Z",
     "start_time": "2023-03-18T03:30:30.387360Z"
    }
   },
   "outputs": [
    {
     "name": "stdout",
     "output_type": "stream",
     "text": [
      "iN 2010, SOMEONE PAID 10K bITCOIN FOR TWO PIZZAS.\n"
     ]
    }
   ],
   "source": [
    "my_string = \"In 2010, someone paid 10k Bitcoin for two pizzas.\"\n",
    " \n",
    "print(my_string.swapcase())"
   ]
  },
  {
   "cell_type": "code",
   "execution_count": 6,
   "id": "00381caa",
   "metadata": {
    "ExecuteTime": {
     "end_time": "2023-03-18T03:31:50.358338Z",
     "start_time": "2023-03-18T03:31:50.346299Z"
    }
   },
   "outputs": [
    {
     "name": "stdout",
     "output_type": "stream",
     "text": [
      "In2010,someonepaid10kBitcoinfortwopizzas.\n"
     ]
    }
   ],
   "source": [
    "my_string = \"In 2010, someone paid 10k Bitcoin for two pizzas.\"\n",
    "\n",
    "print(my_string.replace(' ',''))"
   ]
  },
  {
   "cell_type": "code",
   "execution_count": 7,
   "id": "374d66df",
   "metadata": {
    "ExecuteTime": {
     "end_time": "2023-03-18T03:33:20.505430Z",
     "start_time": "2023-03-18T03:33:20.499400Z"
    }
   },
   "outputs": [
    {
     "name": "stdout",
     "output_type": "stream",
     "text": [
      "In 2010, someone pabtcd 10k Bbtctcobtcn for two pbtczzas.\n"
     ]
    }
   ],
   "source": [
    "my_string = \"In 2010, someone paid 10k Bitcoin for two pizzas.\"\n",
    "\n",
    "print(my_string.replace('i','btc'))"
   ]
  },
  {
   "cell_type": "code",
   "execution_count": 8,
   "id": "c3933457",
   "metadata": {
    "ExecuteTime": {
     "end_time": "2023-03-18T03:34:42.348892Z",
     "start_time": "2023-03-18T03:34:42.330850Z"
    }
   },
   "outputs": [
    {
     "name": "stdout",
     "output_type": "stream",
     "text": [
      "['In 2010', ' someone paid 10k Bitcoin for two pizzas.']\n"
     ]
    }
   ],
   "source": [
    "# split the entire string in two parts, using the comma as a delimiter.\n",
    "my_string = \"In 2010, someone paid 10k Bitcoin for two pizzas.\"\n",
    "\n",
    "print(my_string.split(','))"
   ]
  },
  {
   "cell_type": "code",
   "execution_count": 9,
   "id": "3a9c793a",
   "metadata": {
    "ExecuteTime": {
     "end_time": "2023-03-18T03:37:13.521657Z",
     "start_time": "2023-03-18T03:37:13.516660Z"
    }
   },
   "outputs": [
    {
     "name": "stdout",
     "output_type": "stream",
     "text": [
      "I&n& &2&0&1&0&,& &s&o&m&e&o&n&e& &p&a&i&d& &1&0&k& &B&i&t&c&o&i&n& &f&o&r& &t&w&o& &p&i&z&z&a&s&.\n"
     ]
    }
   ],
   "source": [
    "my_string = \"In 2010, someone paid 10k Bitcoin for two pizzas.\"\n",
    "\n",
    "print('&'.join(my_string))"
   ]
  },
  {
   "cell_type": "code",
   "execution_count": 11,
   "id": "a3d5e74e",
   "metadata": {
    "ExecuteTime": {
     "end_time": "2023-03-18T03:43:02.709561Z",
     "start_time": "2023-03-18T03:43:02.698290Z"
    }
   },
   "outputs": [
    {
     "name": "stdout",
     "output_type": "stream",
     "text": [
      "In 2010, someone paid 10k Bitcoin for two pizzas.Poor guy!\n"
     ]
    }
   ],
   "source": [
    "my_string = \"In 2010, someone paid 10k Bitcoin for two pizzas.\"\n",
    "my_other_string = \"Poor guy!\"\n",
    "\n",
    "print(my_string+my_other_string)"
   ]
  },
  {
   "cell_type": "code",
   "execution_count": 12,
   "id": "f0d848f9",
   "metadata": {
    "ExecuteTime": {
     "end_time": "2023-03-18T03:44:43.747550Z",
     "start_time": "2023-03-18T03:44:43.727379Z"
    }
   },
   "outputs": [
    {
     "name": "stdout",
     "output_type": "stream",
     "text": [
      "In 2010, Someone Paid 10K Bitcoin For Two Pizzas.\n"
     ]
    }
   ],
   "source": [
    "my_string = \"In 2010, someone paid 10k Bitcoin for two pizzas.\"\n",
    "\n",
    "print(my_string.title())"
   ]
  },
  {
   "cell_type": "markdown",
   "id": "6c176990",
   "metadata": {},
   "source": [
    "use string formatting with the % operator on line 3 to map the values of 2010, 10k and Bitcoin to the corresponding formatting operators."
   ]
  },
  {
   "cell_type": "code",
   "execution_count": 14,
   "id": "afee7505",
   "metadata": {
    "ExecuteTime": {
     "end_time": "2023-03-18T03:53:28.605246Z",
     "start_time": "2023-03-18T03:53:28.596074Z"
    }
   },
   "outputs": [
    {
     "name": "stdout",
     "output_type": "stream",
     "text": [
      "In 2010, someone paid 10k Bitcoin for two pizzas.\n"
     ]
    }
   ],
   "source": [
    "my_string = \"In %s, someone paid %s %s for two pizzas.\"\n",
    "\n",
    "print(my_string % ('2010','10k','Bitcoin'))"
   ]
  },
  {
   "cell_type": "code",
   "execution_count": 15,
   "id": "438350aa",
   "metadata": {
    "ExecuteTime": {
     "end_time": "2023-03-18T03:56:25.242753Z",
     "start_time": "2023-03-18T03:56:25.225478Z"
    }
   },
   "outputs": [
    {
     "name": "stdout",
     "output_type": "stream",
     "text": [
      "In 2010, someone paid 10k Bitcoin for two pizzas.\n"
     ]
    }
   ],
   "source": [
    "my_string = \"In {}, someone paid {} {} for two pizzas.\"\n",
    "\n",
    "print(my_string.format('2010','10k','Bitcoin'))"
   ]
  },
  {
   "cell_type": "code",
   "execution_count": 22,
   "id": "4e93cf38",
   "metadata": {
    "ExecuteTime": {
     "end_time": "2023-03-18T04:07:47.194217Z",
     "start_time": "2023-03-18T04:07:47.175153Z"
    }
   },
   "outputs": [
    {
     "name": "stdout",
     "output_type": "stream",
     "text": [
      "2010\n"
     ]
    }
   ],
   "source": [
    "my_string = \"In 2010, someone paid 10k Bitcoin for two pizzas.\"\n",
    "\n",
    "print(my_string[3:7])"
   ]
  },
  {
   "cell_type": "code",
   "execution_count": 23,
   "id": "abe6cdcc",
   "metadata": {
    "ExecuteTime": {
     "end_time": "2023-03-18T04:41:06.295914Z",
     "start_time": "2023-03-18T04:41:06.286552Z"
    }
   },
   "outputs": [
    {
     "name": "stdout",
     "output_type": "stream",
     "text": [
      "Bitcoin\n"
     ]
    }
   ],
   "source": [
    "my_string = \"In 2010, someone paid 10k Bitcoin for two pizzas.\"\n",
    " \n",
    "print(my_string[-23:-16])"
   ]
  },
  {
   "cell_type": "code",
   "execution_count": 24,
   "id": "933b54af",
   "metadata": {
    "ExecuteTime": {
     "end_time": "2023-03-18T04:44:51.782106Z",
     "start_time": "2023-03-18T04:44:51.767889Z"
    }
   },
   "outputs": [
    {
     "name": "stdout",
     "output_type": "stream",
     "text": [
      "In 2010, som\n"
     ]
    }
   ],
   "source": [
    "my_string = \"In 2010, someone paid 10k Bitcoin for two pizzas.\"\n",
    "\n",
    "print(my_string[0:12])"
   ]
  },
  {
   "cell_type": "code",
   "execution_count": 25,
   "id": "c3b4b690",
   "metadata": {
    "ExecuteTime": {
     "end_time": "2023-03-18T04:46:16.309682Z",
     "start_time": "2023-03-18T04:46:16.288684Z"
    }
   },
   "outputs": [
    {
     "name": "stdout",
     "output_type": "stream",
     "text": [
      "o pizzas.\n"
     ]
    }
   ],
   "source": [
    "my_string = \"In 2010, someone paid 10k Bitcoin for two pizzas.\"\n",
    " \n",
    "print(my_string[-9:])"
   ]
  },
  {
   "cell_type": "code",
   "execution_count": 30,
   "id": "687c9b2e",
   "metadata": {
    "ExecuteTime": {
     "end_time": "2023-03-18T04:54:13.102046Z",
     "start_time": "2023-03-18T04:54:13.092863Z"
    }
   },
   "outputs": [
    {
     "name": "stdout",
     "output_type": "stream",
     "text": [
      ".sazzip owt rof nioctiB k01 diap enoemos ,0102 nI\n"
     ]
    }
   ],
   "source": [
    "my_string = \"In 2010, someone paid 10k Bitcoin for two pizzas.\"\n",
    "\n",
    "print(my_string[::-1])"
   ]
  },
  {
   "cell_type": "code",
   "execution_count": 31,
   "id": "5125bd5a",
   "metadata": {
    "ExecuteTime": {
     "end_time": "2023-03-18T05:17:46.224945Z",
     "start_time": "2023-03-18T05:17:46.214937Z"
    }
   },
   "outputs": [
    {
     "name": "stdout",
     "output_type": "stream",
     "text": [
      "I,n top\n"
     ]
    }
   ],
   "source": [
    "my_string = \"In 2010, someone paid 10k Bitcoin for two pizzas.\"\n",
    "\n",
    "print(my_string[::7])"
   ]
  },
  {
   "cell_type": "code",
   "execution_count": 32,
   "id": "e6a336d6",
   "metadata": {
    "ExecuteTime": {
     "end_time": "2023-03-18T05:24:30.934253Z",
     "start_time": "2023-03-18T05:24:30.915246Z"
    }
   },
   "outputs": [
    {
     "name": "stdout",
     "output_type": "stream",
     "text": [
      "In 2010, someone paid 10k Bitcoin for two piz\n"
     ]
    }
   ],
   "source": [
    "my_string = \"In 2010, someone paid 10k Bitcoin for two pizzas.\"\n",
    "\n",
    "print(my_string[:-4])"
   ]
  },
  {
   "cell_type": "code",
   "execution_count": 33,
   "id": "f31fff69",
   "metadata": {
    "ExecuteTime": {
     "end_time": "2023-03-18T05:34:29.934628Z",
     "start_time": "2023-03-18T05:34:29.918050Z"
    }
   },
   "outputs": [],
   "source": [
    "my_list = [10, 10.5, 20, 30, 'Python', 'Java', 'Ruby']\n",
    "\n",
    "my_list.remove('Java')"
   ]
  },
  {
   "cell_type": "code",
   "execution_count": 34,
   "id": "08ef7a4b",
   "metadata": {
    "ExecuteTime": {
     "end_time": "2023-03-18T05:36:07.174300Z",
     "start_time": "2023-03-18T05:36:07.160539Z"
    }
   },
   "outputs": [
    {
     "name": "stdout",
     "output_type": "stream",
     "text": [
      "[10, 10.5, 20, 30, 'Python', 'Java', 'Ruby', 'C++']\n"
     ]
    }
   ],
   "source": [
    "my_list = [10, 10.5, 20, 30, 'Python', 'Java', 'Ruby']\n",
    "\n",
    "my_list.append('C++') \n",
    "\n",
    "print(my_list)"
   ]
  },
  {
   "cell_type": "markdown",
   "id": "102e5523",
   "metadata": {},
   "source": [
    "have the function GroupTotals(strArr) read in the strArr parameter containing key:value pairs where the key is a string and the value is an integer. Your program should return a string with new key:value pairs separated by a comma such that each key appears only once with the total values summed up.\n",
    "For example: if strArr is [\"B:-1\", \"A:1\", \"B:3\", \"A:5\"] then your program should return the string A:6,B:2.\n",
    "Your final output string should return the keys in alphabetical order. Exclude keys that have a value of 0 after being summed up."
   ]
  },
  {
   "cell_type": "code",
   "execution_count": 3,
   "id": "c198efc8",
   "metadata": {
    "ExecuteTime": {
     "end_time": "2023-04-05T02:00:29.631692Z",
     "start_time": "2023-04-05T02:00:29.614663Z"
    }
   },
   "outputs": [],
   "source": [
    "def GroupTotals(strArr):\n",
    "    d = {}\n",
    "    for pair in strArr:\n",
    "        key, value = pair.split(':')\n",
    "        d[key] = d.get(key, 0) + int(value)\n",
    "    result = []\n",
    "    for key, value in sorted(d.items()):\n",
    "        if value != 0:\n",
    "            result.append(key + ':' + str(value))\n",
    "    return ','.join(result)"
   ]
  },
  {
   "cell_type": "markdown",
   "id": "a0e0e76e",
   "metadata": {},
   "source": [
    "d.get(key, 0) is a dictionary method that returns the value associated with a given key in the dictionary d. If the key is not present in the dictionary, it returns the default value of 0 that is provided as the second argument to the get() method.\n",
    "\n",
    "So, the expression d.get(key, 0) is checking if the key is already present in the dictionary, and if so, it returns its current value. If the key is not present in the dictionary, it returns the default value of 0.\n",
    "\n",
    "The expression d.get(key, 0) + int(value) then adds the value from the current key-value pair to the value already stored in the dictionary for the given key. This sum is then assigned back to the dictionary under the same key, effectively updating the running total for that key.\n",
    "\n",
    "In other words, this line of code checks if the key is already in the dictionary, and if so, adds the new value to the existing total for that key. If the key is not yet in the dictionary, it adds it with the new value as its starting total."
   ]
  },
  {
   "cell_type": "markdown",
   "id": "e9195285",
   "metadata": {},
   "source": [
    "d.get(key, 0) is a dictionary method that returns the value associated with a given key in the dictionary d. If the key is not present in the dictionary, it returns the default value of 0 that is provided as the second argument to the get() method.\n",
    "\n",
    "So, the expression d.get(key, 0) is checking if the key is already present in the dictionary, and if so, it returns its current value. If the key is not present in the dictionary, it returns the default value of 0.\n",
    "\n",
    "The expression d.get(key, 0) + int(value) then adds the value from the current key-value pair to the value already stored in the dictionary for the given key. This sum is then assigned back to the dictionary under the same key, effectively updating the running total for that key.\n",
    "\n",
    "In other words, this line of code checks if the key is already in the dictionary, and if so, adds the new value to the existing total for that key. If the key is not yet in the dictionary, it adds it with the new value as its starting total."
   ]
  },
  {
   "cell_type": "code",
   "execution_count": 4,
   "id": "4c4c141c",
   "metadata": {
    "ExecuteTime": {
     "end_time": "2023-04-05T02:00:32.767155Z",
     "start_time": "2023-04-05T02:00:32.751684Z"
    }
   },
   "outputs": [
    {
     "name": "stdout",
     "output_type": "stream",
     "text": [
      "-1\n",
      "1\n",
      "2\n",
      "6\n"
     ]
    }
   ],
   "source": [
    "a=[\"B:-1\", \"A:1\", \"B:3\", \"A:5\"]\n",
    "d={}\n",
    "for pair in a:\n",
    "        key, value = pair.split(':')\n",
    "        #print(key,value)\n",
    "        d[key] = d.get(key, 0) + int(value)\n",
    "        print(d[key])"
   ]
  },
  {
   "cell_type": "code",
   "execution_count": 5,
   "id": "1495d5ce",
   "metadata": {
    "ExecuteTime": {
     "end_time": "2023-04-05T02:00:34.549551Z",
     "start_time": "2023-04-05T02:00:34.541551Z"
    }
   },
   "outputs": [
    {
     "data": {
      "text/plain": [
       "'A:6,B:2'"
      ]
     },
     "execution_count": 5,
     "metadata": {},
     "output_type": "execute_result"
    }
   ],
   "source": [
    "GroupTotals(a) "
   ]
  },
  {
   "cell_type": "code",
   "execution_count": 57,
   "id": "38f35fe7",
   "metadata": {
    "ExecuteTime": {
     "end_time": "2023-03-24T14:02:22.828567Z",
     "start_time": "2023-03-24T14:02:22.821565Z"
    }
   },
   "outputs": [],
   "source": [
    "a=[\"B:-1\", \"A:1\", \"B:3\", \"A:5\"]\n",
    "d={}\n",
    "for pair in a:\n",
    "    i,j = pair.split(':')\n",
    "    d[i]=d.get(i,0)+int(j)\n",
    "    \n",
    "    "
   ]
  },
  {
   "cell_type": "code",
   "execution_count": 58,
   "id": "00d73270",
   "metadata": {
    "ExecuteTime": {
     "end_time": "2023-03-24T14:02:30.425794Z",
     "start_time": "2023-03-24T14:02:30.420793Z"
    }
   },
   "outputs": [
    {
     "data": {
      "text/plain": [
       "{'B': 2, 'A': 6}"
      ]
     },
     "execution_count": 58,
     "metadata": {},
     "output_type": "execute_result"
    }
   ],
   "source": [
    "d"
   ]
  },
  {
   "cell_type": "code",
   "execution_count": null,
   "id": "596f8ead",
   "metadata": {},
   "outputs": [],
   "source": []
  },
  {
   "cell_type": "code",
   "execution_count": null,
   "id": "cdeeb240",
   "metadata": {},
   "outputs": [],
   "source": []
  },
  {
   "cell_type": "markdown",
   "id": "ff978785",
   "metadata": {},
   "source": [
    "Have the function ArrayChallenge(arr), take the array of integers stored in arr which will always contain an even amount of integers, and determine how they can be split into two even sets, then return a string representation of the first set followed by the second set with each integer separated by a comma and both sets sorted in ascending order. The set that goes first is the set with smallest first integer.\n",
    "\n",
    "For example if arr is [16,22,35,8,20,1,21,11], then your program should output 1,11,20,35,8,16,21,22\n",
    "\n",
    "[16,22,35,8,20,1,21,11] sum = 134\n",
    "\n",
    "the sum of 1,11,20,35 is = 67 the sum of 8,16,21,22 is = 67\n",
    "\n",
    "Also the size of the two arrays are equal to arr.length /2"
   ]
  },
  {
   "cell_type": "code",
   "execution_count": 39,
   "id": "416f4410",
   "metadata": {
    "ExecuteTime": {
     "end_time": "2023-03-18T06:37:16.499019Z",
     "start_time": "2023-03-18T06:37:16.487562Z"
    }
   },
   "outputs": [],
   "source": [
    "def ArrayChallenge(arr):\n",
    "    arr.sort()  # sort the input array in ascending order\n",
    "    n = len(arr)\n",
    "    mid = n // 2\n",
    "    set1 = arr[:mid]  # first half of sorted array\n",
    "    set2 = arr[mid:]  # second half of sorted array\n",
    "    sum1 = sum(set1)\n",
    "    sum2 = sum(set2)\n",
    "    # check if the two sets have the same sum\n",
    "    while sum1 != sum2:\n",
    "        # if not, swap the smallest/largest number between the two sets\n",
    "        if sum1 < sum2:\n",
    "            set1[0], set2[-1] = set2[-1], set1[0]\n",
    "        else:\n",
    "            set1[-1], set2[0] = set2[0], set1[-1]\n",
    "        # recalculate the sums of the two sets\n",
    "        sum1 = sum(set1)\n",
    "        sum2 = sum(set2)\n",
    "    # return the two sets as a string\n",
    "    return ','.join(map(str, set1)) + ',' + ','.join(map(str, set2))"
   ]
  },
  {
   "cell_type": "code",
   "execution_count": 67,
   "id": "e7051c55",
   "metadata": {
    "ExecuteTime": {
     "end_time": "2023-03-24T14:46:51.343338Z",
     "start_time": "2023-03-24T14:46:51.329508Z"
    }
   },
   "outputs": [
    {
     "data": {
      "text/plain": [
       "[1, 8, 11, 16, 20, 21, 22, 35]"
      ]
     },
     "execution_count": 67,
     "metadata": {},
     "output_type": "execute_result"
    }
   ],
   "source": [
    "l=[16,22,35,8,20,1,21,11]\n",
    "l.sort()\n",
    "l"
   ]
  },
  {
   "cell_type": "code",
   "execution_count": 80,
   "id": "76cab426",
   "metadata": {
    "ExecuteTime": {
     "end_time": "2023-03-24T16:15:19.127320Z",
     "start_time": "2023-03-24T16:15:16.312429Z"
    }
   },
   "outputs": [
    {
     "ename": "KeyboardInterrupt",
     "evalue": "",
     "output_type": "error",
     "traceback": [
      "\u001b[1;31m---------------------------------------------------------------------------\u001b[0m",
      "\u001b[1;31mKeyboardInterrupt\u001b[0m                         Traceback (most recent call last)",
      "\u001b[1;32m~\\AppData\\Local\\Temp\\ipykernel_32656\\1870731797.py\u001b[0m in \u001b[0;36m<module>\u001b[1;34m\u001b[0m\n\u001b[0;32m      6\u001b[0m \u001b[0md\u001b[0m\u001b[1;33m=\u001b[0m\u001b[0msum\u001b[0m\u001b[1;33m(\u001b[0m\u001b[0ml\u001b[0m\u001b[1;33m[\u001b[0m\u001b[0ma\u001b[0m\u001b[1;33m:\u001b[0m\u001b[1;33m]\u001b[0m\u001b[1;33m)\u001b[0m\u001b[1;33m\u001b[0m\u001b[1;33m\u001b[0m\u001b[0m\n\u001b[0;32m      7\u001b[0m \u001b[1;32mwhile\u001b[0m \u001b[0ms\u001b[0m\u001b[1;33m!=\u001b[0m\u001b[0md\u001b[0m\u001b[1;33m:\u001b[0m\u001b[1;33m\u001b[0m\u001b[1;33m\u001b[0m\u001b[0m\n\u001b[1;32m----> 8\u001b[1;33m     \u001b[1;32mif\u001b[0m \u001b[0ms\u001b[0m\u001b[1;33m>\u001b[0m\u001b[0md\u001b[0m\u001b[1;33m:\u001b[0m\u001b[1;33m\u001b[0m\u001b[1;33m\u001b[0m\u001b[0m\n\u001b[0m\u001b[0;32m      9\u001b[0m         \u001b[0ms1\u001b[0m\u001b[1;33m[\u001b[0m\u001b[1;36m0\u001b[0m\u001b[1;33m]\u001b[0m\u001b[1;33m,\u001b[0m\u001b[0ms2\u001b[0m\u001b[1;33m[\u001b[0m\u001b[1;33m-\u001b[0m\u001b[1;36m1\u001b[0m\u001b[1;33m]\u001b[0m\u001b[1;33m=\u001b[0m\u001b[0ms2\u001b[0m\u001b[1;33m[\u001b[0m\u001b[1;33m-\u001b[0m\u001b[1;36m1\u001b[0m\u001b[1;33m]\u001b[0m\u001b[1;33m,\u001b[0m\u001b[0ms1\u001b[0m\u001b[1;33m[\u001b[0m\u001b[1;36m0\u001b[0m\u001b[1;33m]\u001b[0m\u001b[1;33m\u001b[0m\u001b[1;33m\u001b[0m\u001b[0m\n\u001b[0;32m     10\u001b[0m     \u001b[1;32melse\u001b[0m\u001b[1;33m:\u001b[0m\u001b[1;33m\u001b[0m\u001b[1;33m\u001b[0m\u001b[0m\n",
      "\u001b[1;31mKeyboardInterrupt\u001b[0m: "
     ]
    }
   ],
   "source": [
    "    l.sort()\n",
    "    a=len(l)//2\n",
    "    s1=l[:a]\n",
    "    s2=l[a:]\n",
    "    s=sum(l[:a])\n",
    "    d=sum(l[a:])\n",
    "    while s!=d:\n",
    "        if s>d:\n",
    "            s1[0],s2[-1]=s2[-1],s1[0]\n",
    "        else:\n",
    "            s1[-1],s2[0]=s2[0],s1[-1]\n",
    "        \n",
    "    "
   ]
  },
  {
   "cell_type": "code",
   "execution_count": 84,
   "id": "9d7bd9aa",
   "metadata": {
    "ExecuteTime": {
     "end_time": "2023-03-24T16:15:46.832163Z",
     "start_time": "2023-03-24T16:15:46.815303Z"
    }
   },
   "outputs": [
    {
     "data": {
      "text/plain": [
       "98"
      ]
     },
     "execution_count": 84,
     "metadata": {},
     "output_type": "execute_result"
    }
   ],
   "source": [
    "d"
   ]
  },
  {
   "cell_type": "code",
   "execution_count": null,
   "id": "c1c67143",
   "metadata": {},
   "outputs": [],
   "source": []
  },
  {
   "cell_type": "markdown",
   "id": "b30cabe4",
   "metadata": {},
   "source": [
    "In this MySQL challenge, your query should return the vendor information along with the values from the table cb_vendorinformation. You should combine the values of the two tables based on the GroupID column. The final query should only print out the GroupID, CompanyName, and final count of all rows that are grouped into each company name under a column titled Count. The output table should be then sorted by the Count column and then sorted by GroupID so that a higher number appears first."
   ]
  },
  {
   "cell_type": "code",
   "execution_count": null,
   "id": "90f4442b",
   "metadata": {},
   "outputs": [],
   "source": [
    "SELECT cb_vendor.GroupID, cb_vendor.CompanyName, COUNT(*) AS Count\n",
    "FROM cb_vendor\n",
    "JOIN cb_vendorinformation ON cb_vendor.GroupID = cb_vendorinformation.GroupID\n",
    "GROUP BY cb_vendor.GroupID, cb_vendor.CompanyName\n",
    "ORDER BY Count DESC, cb_vendor.GroupID DESC;"
   ]
  },
  {
   "cell_type": "markdown",
   "id": "72cdb0b1",
   "metadata": {},
   "source": [
    "In this MySQL challenge, your query should return the names of the people who are reported to (excluding null values), the number of members that report to them, and the average age of those members as an integer. The rows should be ordered by the names in alphabetical order. Your output should look like the following table. \n",
    "#### Reportsto 1. Members 1 Average Age \n",
    "1. Bob Boss          2        24\n",
    "2. Daniel Smith      1 -      22\n",
    "3. David s           1 -      25\n",
    "4. Jenny Richards    2 -      32"
   ]
  },
  {
   "cell_type": "code",
   "execution_count": null,
   "id": "048b8064",
   "metadata": {},
   "outputs": [],
   "source": [
    "SELECT r.Name AS Reportsto, COUNT(m.Name) AS Members, AVG(m.Age) AS `Average Age`\n",
    "FROM Employees m\n",
    "LEFT JOIN Employees r ON m.ReportsTo = r.EmployeeID\n",
    "WHERE m.ReportsTo IS NOT NULL\n",
    "GROUP BY r.Name\n",
    "ORDER BY r.Name;"
   ]
  },
  {
   "cell_type": "code",
   "execution_count": null,
   "id": "cbcf99a6",
   "metadata": {},
   "outputs": [],
   "source": [
    "SELECT\n",
    "\n",
    " mt.ReportsTo,\n",
    "\n",
    " COUNT(mt.ID) as Members,\n",
    "\n",
    " ROUND(AVG(mt.Age), 0) as Average_Age\n",
    "\n",
    "FROM employee mt\n",
    "\n",
    " WHERE ReportsTo IS NOT NULL\n",
    "\n",
    " GROUP BY\n",
    "\n",
    "   mt.ReportsTo\n",
    "\n",
    " ORDER BY mt.ReportsTo"
   ]
  },
  {
   "cell_type": "markdown",
   "id": "39518121",
   "metadata": {},
   "source": [
    "you are given an integer n and two arrays each of which is a permutation of numbers from 1 to n. your task is to determine the number of unordered triplet (a,b,c) such that relative ordering of(a,b,c) is the same in both the arrays\n",
    "\n",
    "Constraints\n",
    "\n",
    "1≤T≤1001 \\le T \\le 100\n",
    "\n",
    "1≤n≤1000001 \\le n \\le 100000\n",
    "\n",
    "Sample Input1\n",
    "\n",
    "3\n",
    "\n",
    "1 2 3\n",
    "\n",
    "1 2 3\n",
    "\n",
    "Sample Output\n",
    "\n",
    "1"
   ]
  },
  {
   "cell_type": "code",
   "execution_count": 40,
   "id": "115f4476",
   "metadata": {
    "ExecuteTime": {
     "end_time": "2023-03-18T07:03:12.373536Z",
     "start_time": "2023-03-18T07:03:08.103613Z"
    }
   },
   "outputs": [
    {
     "name": "stdout",
     "output_type": "stream",
     "text": [
      "1\n",
      "2\n",
      "3\n",
      "1\n"
     ]
    },
    {
     "ename": "IndexError",
     "evalue": "list index out of range",
     "output_type": "error",
     "traceback": [
      "\u001b[1;31m---------------------------------------------------------------------------\u001b[0m",
      "\u001b[1;31mIndexError\u001b[0m                                Traceback (most recent call last)",
      "\u001b[1;32m~\\AppData\\Local\\Temp\\ipykernel_15100\\53167009.py\u001b[0m in \u001b[0;36m<module>\u001b[1;34m\u001b[0m\n\u001b[0;32m     16\u001b[0m     \u001b[0mA\u001b[0m \u001b[1;33m=\u001b[0m \u001b[0mlist\u001b[0m\u001b[1;33m(\u001b[0m\u001b[0mmap\u001b[0m\u001b[1;33m(\u001b[0m\u001b[0mint\u001b[0m\u001b[1;33m,\u001b[0m \u001b[0minput\u001b[0m\u001b[1;33m(\u001b[0m\u001b[1;33m)\u001b[0m\u001b[1;33m.\u001b[0m\u001b[0msplit\u001b[0m\u001b[1;33m(\u001b[0m\u001b[1;33m)\u001b[0m\u001b[1;33m)\u001b[0m\u001b[1;33m)\u001b[0m\u001b[1;33m\u001b[0m\u001b[1;33m\u001b[0m\u001b[0m\n\u001b[0;32m     17\u001b[0m     \u001b[0mB\u001b[0m \u001b[1;33m=\u001b[0m \u001b[0mlist\u001b[0m\u001b[1;33m(\u001b[0m\u001b[0mmap\u001b[0m\u001b[1;33m(\u001b[0m\u001b[0mint\u001b[0m\u001b[1;33m,\u001b[0m \u001b[0minput\u001b[0m\u001b[1;33m(\u001b[0m\u001b[1;33m)\u001b[0m\u001b[1;33m.\u001b[0m\u001b[0msplit\u001b[0m\u001b[1;33m(\u001b[0m\u001b[1;33m)\u001b[0m\u001b[1;33m)\u001b[0m\u001b[1;33m)\u001b[0m\u001b[1;33m\u001b[0m\u001b[1;33m\u001b[0m\u001b[0m\n\u001b[1;32m---> 18\u001b[1;33m     \u001b[0mprint\u001b[0m\u001b[1;33m(\u001b[0m\u001b[0mcount_unordered_triplets\u001b[0m\u001b[1;33m(\u001b[0m\u001b[0mn\u001b[0m\u001b[1;33m,\u001b[0m \u001b[0mA\u001b[0m\u001b[1;33m,\u001b[0m \u001b[0mB\u001b[0m\u001b[1;33m)\u001b[0m\u001b[1;33m)\u001b[0m\u001b[1;33m\u001b[0m\u001b[1;33m\u001b[0m\u001b[0m\n\u001b[0m",
      "\u001b[1;32m~\\AppData\\Local\\Temp\\ipykernel_15100\\53167009.py\u001b[0m in \u001b[0;36mcount_unordered_triplets\u001b[1;34m(n, A, B)\u001b[0m\n\u001b[0;32m      1\u001b[0m \u001b[1;32mdef\u001b[0m \u001b[0mcount_unordered_triplets\u001b[0m\u001b[1;33m(\u001b[0m\u001b[0mn\u001b[0m\u001b[1;33m,\u001b[0m \u001b[0mA\u001b[0m\u001b[1;33m,\u001b[0m \u001b[0mB\u001b[0m\u001b[1;33m)\u001b[0m\u001b[1;33m:\u001b[0m\u001b[1;33m\u001b[0m\u001b[1;33m\u001b[0m\u001b[0m\n\u001b[0;32m      2\u001b[0m     \u001b[0mcount\u001b[0m \u001b[1;33m=\u001b[0m \u001b[1;36m0\u001b[0m\u001b[1;33m\u001b[0m\u001b[1;33m\u001b[0m\u001b[0m\n\u001b[1;32m----> 3\u001b[1;33m     \u001b[0mindices\u001b[0m \u001b[1;33m=\u001b[0m \u001b[1;33m{\u001b[0m\u001b[0mB\u001b[0m\u001b[1;33m[\u001b[0m\u001b[0mi\u001b[0m\u001b[1;33m]\u001b[0m\u001b[1;33m:\u001b[0m \u001b[0mi\u001b[0m \u001b[1;32mfor\u001b[0m \u001b[0mi\u001b[0m \u001b[1;32min\u001b[0m \u001b[0mrange\u001b[0m\u001b[1;33m(\u001b[0m\u001b[0mn\u001b[0m\u001b[1;33m)\u001b[0m\u001b[1;33m}\u001b[0m\u001b[1;33m\u001b[0m\u001b[1;33m\u001b[0m\u001b[0m\n\u001b[0m\u001b[0;32m      4\u001b[0m     \u001b[1;32mfor\u001b[0m \u001b[0mi\u001b[0m \u001b[1;32min\u001b[0m \u001b[0mrange\u001b[0m\u001b[1;33m(\u001b[0m\u001b[0mn\u001b[0m\u001b[1;33m)\u001b[0m\u001b[1;33m:\u001b[0m\u001b[1;33m\u001b[0m\u001b[1;33m\u001b[0m\u001b[0m\n\u001b[0;32m      5\u001b[0m         \u001b[1;32mfor\u001b[0m \u001b[0mj\u001b[0m \u001b[1;32min\u001b[0m \u001b[0mrange\u001b[0m\u001b[1;33m(\u001b[0m\u001b[0mi\u001b[0m\u001b[1;33m+\u001b[0m\u001b[1;36m1\u001b[0m\u001b[1;33m,\u001b[0m \u001b[0mn\u001b[0m\u001b[1;33m)\u001b[0m\u001b[1;33m:\u001b[0m\u001b[1;33m\u001b[0m\u001b[1;33m\u001b[0m\u001b[0m\n",
      "\u001b[1;32m~\\AppData\\Local\\Temp\\ipykernel_15100\\53167009.py\u001b[0m in \u001b[0;36m<dictcomp>\u001b[1;34m(.0)\u001b[0m\n\u001b[0;32m      1\u001b[0m \u001b[1;32mdef\u001b[0m \u001b[0mcount_unordered_triplets\u001b[0m\u001b[1;33m(\u001b[0m\u001b[0mn\u001b[0m\u001b[1;33m,\u001b[0m \u001b[0mA\u001b[0m\u001b[1;33m,\u001b[0m \u001b[0mB\u001b[0m\u001b[1;33m)\u001b[0m\u001b[1;33m:\u001b[0m\u001b[1;33m\u001b[0m\u001b[1;33m\u001b[0m\u001b[0m\n\u001b[0;32m      2\u001b[0m     \u001b[0mcount\u001b[0m \u001b[1;33m=\u001b[0m \u001b[1;36m0\u001b[0m\u001b[1;33m\u001b[0m\u001b[1;33m\u001b[0m\u001b[0m\n\u001b[1;32m----> 3\u001b[1;33m     \u001b[0mindices\u001b[0m \u001b[1;33m=\u001b[0m \u001b[1;33m{\u001b[0m\u001b[0mB\u001b[0m\u001b[1;33m[\u001b[0m\u001b[0mi\u001b[0m\u001b[1;33m]\u001b[0m\u001b[1;33m:\u001b[0m \u001b[0mi\u001b[0m \u001b[1;32mfor\u001b[0m \u001b[0mi\u001b[0m \u001b[1;32min\u001b[0m \u001b[0mrange\u001b[0m\u001b[1;33m(\u001b[0m\u001b[0mn\u001b[0m\u001b[1;33m)\u001b[0m\u001b[1;33m}\u001b[0m\u001b[1;33m\u001b[0m\u001b[1;33m\u001b[0m\u001b[0m\n\u001b[0m\u001b[0;32m      4\u001b[0m     \u001b[1;32mfor\u001b[0m \u001b[0mi\u001b[0m \u001b[1;32min\u001b[0m \u001b[0mrange\u001b[0m\u001b[1;33m(\u001b[0m\u001b[0mn\u001b[0m\u001b[1;33m)\u001b[0m\u001b[1;33m:\u001b[0m\u001b[1;33m\u001b[0m\u001b[1;33m\u001b[0m\u001b[0m\n\u001b[0;32m      5\u001b[0m         \u001b[1;32mfor\u001b[0m \u001b[0mj\u001b[0m \u001b[1;32min\u001b[0m \u001b[0mrange\u001b[0m\u001b[1;33m(\u001b[0m\u001b[0mi\u001b[0m\u001b[1;33m+\u001b[0m\u001b[1;36m1\u001b[0m\u001b[1;33m,\u001b[0m \u001b[0mn\u001b[0m\u001b[1;33m)\u001b[0m\u001b[1;33m:\u001b[0m\u001b[1;33m\u001b[0m\u001b[1;33m\u001b[0m\u001b[0m\n",
      "\u001b[1;31mIndexError\u001b[0m: list index out of range"
     ]
    }
   ],
   "source": [
    "def count_unordered_triplets(n, A, B):\n",
    "    count = 0\n",
    "    indices = {B[i]: i for i in range(n)}\n",
    "    for i in range(n):\n",
    "        for j in range(i+1, n):\n",
    "            if A[j] < A[i]:\n",
    "                continue\n",
    "            if A[i] in indices and A[j] in indices and indices[A[j]] > indices[A[i]]:\n",
    "                count += n - max(indices[A[j]], j)\n",
    "    return count\n",
    "\n",
    "# example usage\n",
    "T = int(input())\n",
    "for _ in range(T):\n",
    "    n = int(input())\n",
    "    A = list(map(int, input().split()))\n",
    "    B = list(map(int, input().split()))\n",
    "    print(count_unordered_triplets(n, A, B))"
   ]
  },
  {
   "cell_type": "code",
   "execution_count": 1,
   "id": "dc78305c",
   "metadata": {
    "ExecuteTime": {
     "end_time": "2023-03-18T12:51:37.750372Z",
     "start_time": "2023-03-18T12:51:32.690607Z"
    }
   },
   "outputs": [
    {
     "name": "stdout",
     "output_type": "stream",
     "text": [
      "1\n",
      "2\n",
      "3\n",
      "4\n"
     ]
    },
    {
     "ename": "IndexError",
     "evalue": "list index out of range",
     "output_type": "error",
     "traceback": [
      "\u001b[1;31m---------------------------------------------------------------------------\u001b[0m",
      "\u001b[1;31mIndexError\u001b[0m                                Traceback (most recent call last)",
      "\u001b[1;32m~\\AppData\\Local\\Temp\\ipykernel_16624\\3800853715.py\u001b[0m in \u001b[0;36m<module>\u001b[1;34m\u001b[0m\n\u001b[0;32m     16\u001b[0m     \u001b[0mA\u001b[0m \u001b[1;33m=\u001b[0m \u001b[0mlist\u001b[0m\u001b[1;33m(\u001b[0m\u001b[0mmap\u001b[0m\u001b[1;33m(\u001b[0m\u001b[0mint\u001b[0m\u001b[1;33m,\u001b[0m \u001b[0minput\u001b[0m\u001b[1;33m(\u001b[0m\u001b[1;33m)\u001b[0m\u001b[1;33m.\u001b[0m\u001b[0msplit\u001b[0m\u001b[1;33m(\u001b[0m\u001b[1;33m)\u001b[0m\u001b[1;33m)\u001b[0m\u001b[1;33m)\u001b[0m\u001b[1;33m\u001b[0m\u001b[1;33m\u001b[0m\u001b[0m\n\u001b[0;32m     17\u001b[0m     \u001b[0mB\u001b[0m \u001b[1;33m=\u001b[0m \u001b[0mlist\u001b[0m\u001b[1;33m(\u001b[0m\u001b[0mmap\u001b[0m\u001b[1;33m(\u001b[0m\u001b[0mint\u001b[0m\u001b[1;33m,\u001b[0m \u001b[0minput\u001b[0m\u001b[1;33m(\u001b[0m\u001b[1;33m)\u001b[0m\u001b[1;33m.\u001b[0m\u001b[0msplit\u001b[0m\u001b[1;33m(\u001b[0m\u001b[1;33m)\u001b[0m\u001b[1;33m)\u001b[0m\u001b[1;33m)\u001b[0m\u001b[1;33m\u001b[0m\u001b[1;33m\u001b[0m\u001b[0m\n\u001b[1;32m---> 18\u001b[1;33m     \u001b[0mprint\u001b[0m\u001b[1;33m(\u001b[0m\u001b[0mcount_unordered_triplets\u001b[0m\u001b[1;33m(\u001b[0m\u001b[0mn\u001b[0m\u001b[1;33m,\u001b[0m \u001b[0mA\u001b[0m\u001b[1;33m,\u001b[0m \u001b[0mB\u001b[0m\u001b[1;33m)\u001b[0m\u001b[1;33m)\u001b[0m\u001b[1;33m\u001b[0m\u001b[1;33m\u001b[0m\u001b[0m\n\u001b[0m",
      "\u001b[1;32m~\\AppData\\Local\\Temp\\ipykernel_16624\\3800853715.py\u001b[0m in \u001b[0;36mcount_unordered_triplets\u001b[1;34m(n, A, B)\u001b[0m\n\u001b[0;32m      1\u001b[0m \u001b[1;32mdef\u001b[0m \u001b[0mcount_unordered_triplets\u001b[0m\u001b[1;33m(\u001b[0m\u001b[0mn\u001b[0m\u001b[1;33m,\u001b[0m \u001b[0mA\u001b[0m\u001b[1;33m,\u001b[0m \u001b[0mB\u001b[0m\u001b[1;33m)\u001b[0m\u001b[1;33m:\u001b[0m\u001b[1;33m\u001b[0m\u001b[1;33m\u001b[0m\u001b[0m\n\u001b[0;32m      2\u001b[0m     \u001b[0mcount\u001b[0m \u001b[1;33m=\u001b[0m \u001b[1;36m0\u001b[0m\u001b[1;33m\u001b[0m\u001b[1;33m\u001b[0m\u001b[0m\n\u001b[1;32m----> 3\u001b[1;33m     \u001b[0mindices\u001b[0m \u001b[1;33m=\u001b[0m \u001b[1;33m{\u001b[0m\u001b[0mB\u001b[0m\u001b[1;33m[\u001b[0m\u001b[0mi\u001b[0m\u001b[1;33m]\u001b[0m\u001b[1;33m:\u001b[0m \u001b[0mi\u001b[0m \u001b[1;32mfor\u001b[0m \u001b[0mi\u001b[0m \u001b[1;32min\u001b[0m \u001b[0mrange\u001b[0m\u001b[1;33m(\u001b[0m\u001b[0mn\u001b[0m\u001b[1;33m)\u001b[0m\u001b[1;33m}\u001b[0m\u001b[1;33m\u001b[0m\u001b[1;33m\u001b[0m\u001b[0m\n\u001b[0m\u001b[0;32m      4\u001b[0m     \u001b[1;32mfor\u001b[0m \u001b[0mi\u001b[0m \u001b[1;32min\u001b[0m \u001b[0mrange\u001b[0m\u001b[1;33m(\u001b[0m\u001b[0mn\u001b[0m\u001b[1;33m)\u001b[0m\u001b[1;33m:\u001b[0m\u001b[1;33m\u001b[0m\u001b[1;33m\u001b[0m\u001b[0m\n\u001b[0;32m      5\u001b[0m         \u001b[1;32mfor\u001b[0m \u001b[0mj\u001b[0m \u001b[1;32min\u001b[0m \u001b[0mrange\u001b[0m\u001b[1;33m(\u001b[0m\u001b[0mi\u001b[0m\u001b[1;33m+\u001b[0m\u001b[1;36m1\u001b[0m\u001b[1;33m,\u001b[0m \u001b[0mn\u001b[0m\u001b[1;33m)\u001b[0m\u001b[1;33m:\u001b[0m\u001b[1;33m\u001b[0m\u001b[1;33m\u001b[0m\u001b[0m\n",
      "\u001b[1;32m~\\AppData\\Local\\Temp\\ipykernel_16624\\3800853715.py\u001b[0m in \u001b[0;36m<dictcomp>\u001b[1;34m(.0)\u001b[0m\n\u001b[0;32m      1\u001b[0m \u001b[1;32mdef\u001b[0m \u001b[0mcount_unordered_triplets\u001b[0m\u001b[1;33m(\u001b[0m\u001b[0mn\u001b[0m\u001b[1;33m,\u001b[0m \u001b[0mA\u001b[0m\u001b[1;33m,\u001b[0m \u001b[0mB\u001b[0m\u001b[1;33m)\u001b[0m\u001b[1;33m:\u001b[0m\u001b[1;33m\u001b[0m\u001b[1;33m\u001b[0m\u001b[0m\n\u001b[0;32m      2\u001b[0m     \u001b[0mcount\u001b[0m \u001b[1;33m=\u001b[0m \u001b[1;36m0\u001b[0m\u001b[1;33m\u001b[0m\u001b[1;33m\u001b[0m\u001b[0m\n\u001b[1;32m----> 3\u001b[1;33m     \u001b[0mindices\u001b[0m \u001b[1;33m=\u001b[0m \u001b[1;33m{\u001b[0m\u001b[0mB\u001b[0m\u001b[1;33m[\u001b[0m\u001b[0mi\u001b[0m\u001b[1;33m]\u001b[0m\u001b[1;33m:\u001b[0m \u001b[0mi\u001b[0m \u001b[1;32mfor\u001b[0m \u001b[0mi\u001b[0m \u001b[1;32min\u001b[0m \u001b[0mrange\u001b[0m\u001b[1;33m(\u001b[0m\u001b[0mn\u001b[0m\u001b[1;33m)\u001b[0m\u001b[1;33m}\u001b[0m\u001b[1;33m\u001b[0m\u001b[1;33m\u001b[0m\u001b[0m\n\u001b[0m\u001b[0;32m      4\u001b[0m     \u001b[1;32mfor\u001b[0m \u001b[0mi\u001b[0m \u001b[1;32min\u001b[0m \u001b[0mrange\u001b[0m\u001b[1;33m(\u001b[0m\u001b[0mn\u001b[0m\u001b[1;33m)\u001b[0m\u001b[1;33m:\u001b[0m\u001b[1;33m\u001b[0m\u001b[1;33m\u001b[0m\u001b[0m\n\u001b[0;32m      5\u001b[0m         \u001b[1;32mfor\u001b[0m \u001b[0mj\u001b[0m \u001b[1;32min\u001b[0m \u001b[0mrange\u001b[0m\u001b[1;33m(\u001b[0m\u001b[0mi\u001b[0m\u001b[1;33m+\u001b[0m\u001b[1;36m1\u001b[0m\u001b[1;33m,\u001b[0m \u001b[0mn\u001b[0m\u001b[1;33m)\u001b[0m\u001b[1;33m:\u001b[0m\u001b[1;33m\u001b[0m\u001b[1;33m\u001b[0m\u001b[0m\n",
      "\u001b[1;31mIndexError\u001b[0m: list index out of range"
     ]
    }
   ],
   "source": [
    "def count_unordered_triplets(n, A, B):\n",
    "    count = 0\n",
    "    indices = {B[i]: i for i in range(n)}\n",
    "    for i in range(n):\n",
    "        for j in range(i+1, n):\n",
    "            if A[j] < A[i]:\n",
    "                continue\n",
    "            if A[i] in indices and A[j] in indices and indices[A[j]] > indices[A[i]]:\n",
    "                count += n - max(indices[A[j]], j+1)\n",
    "    return count\n",
    "\n",
    "# example usage\n",
    "T = int(input())\n",
    "for _ in range(T):\n",
    "    n = int(input())\n",
    "    A = list(map(int, input().split()))\n",
    "    B = list(map(int, input().split()))\n",
    "    print(count_unordered_triplets(n, A, B))"
   ]
  },
  {
   "cell_type": "markdown",
   "id": "21f5dc42",
   "metadata": {},
   "source": [
    "The updated code adds 1 to the second loop's range for variable j. This fixes the issue where the IndexError was being raised when n was 2.\n",
    "\n",
    "I hope this resolves the issue. Let me know if you have any further questions!"
   ]
  },
  {
   "cell_type": "markdown",
   "id": "a2321bbc",
   "metadata": {},
   "source": [
    "This code implements a function called count_unordered_triplets that takes three parameters: n, A, and B.\n",
    "\n",
    "The integer n represents the length of the input lists A and B, while A and B are lists of integers.\n",
    "\n",
    "The goal of the function is to count the number of unordered triplets (i,j,k) such that i < j < k and A[i] < A[j] < A[k] and B[i] < B[j] < B[k]. In other words, it is counting the number of triplets that satisfy both conditions simultaneously.\n",
    "\n",
    "The function works by iterating over all pairs of indices (i,j) in A, where i < j, and checking if A[i] < A[j]. If this condition is not satisfied, it skips to the next pair. If it is satisfied, it then checks if both A[i] and A[j] are present in B, and if so, whether the index of A[j] in B is greater than the index of A[i] in B. If both of these conditions are true, it means that there exists at least one possible value of k that satisfies the constraints. The number of possible values of k is then computed as n - max(indices[A[j]], j+1), where indices[A[j]] is the index of A[j] in B, and j+1 represents the number of elements in A that come after A[j]. The maximum of these two values is taken because the index of A[j] in B should be greater than the index of A[i] in B, and k should come after j in A. Finally, the number of possible values of k is added to the count of triplets.\n",
    "\n",
    "The function then returns the final count of unordered triplets.\n",
    "\n",
    "The example usage provided reads in an integer T, representing the number of test cases to run, and then for each test case, it reads in the integer n, and the lists A and B. It then calls count_unordered_triplets with these inputs and prints the resulting count."
   ]
  },
  {
   "cell_type": "code",
   "execution_count": 3,
   "id": "0bbe526f",
   "metadata": {
    "ExecuteTime": {
     "end_time": "2023-03-18T13:16:34.242484Z",
     "start_time": "2023-03-18T13:16:34.232479Z"
    }
   },
   "outputs": [],
   "source": [
    "def count_triplets(n, arr1, arr2):\n",
    "    pos_dict = {x: i for i, x in enumerate(arr1)}\n",
    "    return sum(((arr2[i] < arr2[j]) == (arr2[j] < arr2[k])) and \\\n",
    "               (pos_dict[arr2[i]] < pos_dict[arr2[j]] < pos_dict[arr2[k]]) \\\n",
    "               for i in range(n) for j in range(i+1, n) for k in range(j+1, n))"
   ]
  },
  {
   "cell_type": "code",
   "execution_count": null,
   "id": "fad6c954",
   "metadata": {},
   "outputs": [],
   "source": [
    "def count_triplets(n, arr1, arr2):\n",
    "    # create a list of indices that sorts arr1\n",
    "    idx = sorted(range(n), key=lambda i: arr1[i])\n",
    "    \n",
    "    # create a list of indices that sorts arr2 according to arr1\n",
    "    idx2 = sorted(range(n), key=lambda i: idx[arr2[i]-1])\n",
    "    \n",
    "    # initialize the count of triplets to 0\n",
    "    count = 0\n",
    "    \n",
    "    # loop through all possible triplets in idx2\n",
    "    for i in range(n):\n",
    "        for j in range(i+1, n):\n",
    "            for k in range(j+1, n):\n",
    "                # check if the relative ordering of the triplet is the same in both arrays\n",
    "                if (idx2[i] < idx2[j]) == (idx2[j] < idx2[k]):\n",
    "                    count += 1\n",
    "                    \n",
    "    # return the count of triplets\n",
    "    return count"
   ]
  },
  {
   "cell_type": "code",
   "execution_count": 1,
   "id": "60ff49c2",
   "metadata": {
    "ExecuteTime": {
     "end_time": "2023-03-24T12:35:53.810616Z",
     "start_time": "2023-03-24T12:35:53.790617Z"
    }
   },
   "outputs": [],
   "source": [
    "l1=[1,2,3]\n",
    "l2=[4,5,6]\n",
    "l=[]\n",
    "for i in range(len(l1)):\n",
    "    l.append(l1[i]+l2[i])"
   ]
  },
  {
   "cell_type": "code",
   "execution_count": 2,
   "id": "418f4056",
   "metadata": {
    "ExecuteTime": {
     "end_time": "2023-03-24T12:35:57.078122Z",
     "start_time": "2023-03-24T12:35:57.054165Z"
    }
   },
   "outputs": [
    {
     "data": {
      "text/plain": [
       "[5, 7, 9]"
      ]
     },
     "execution_count": 2,
     "metadata": {},
     "output_type": "execute_result"
    }
   ],
   "source": [
    "l"
   ]
  },
  {
   "cell_type": "code",
   "execution_count": 3,
   "id": "b73c1413",
   "metadata": {
    "ExecuteTime": {
     "end_time": "2023-03-24T12:36:43.908204Z",
     "start_time": "2023-03-24T12:36:43.893271Z"
    }
   },
   "outputs": [
    {
     "data": {
      "text/plain": [
       "[5, 7, 9]"
      ]
     },
     "execution_count": 3,
     "metadata": {},
     "output_type": "execute_result"
    }
   ],
   "source": [
    "[i+j for i , j in zip(l1,l2)]"
   ]
  },
  {
   "cell_type": "code",
   "execution_count": 10,
   "id": "82c9d45a",
   "metadata": {
    "ExecuteTime": {
     "end_time": "2023-03-24T12:46:14.065489Z",
     "start_time": "2023-03-24T12:46:14.048706Z"
    }
   },
   "outputs": [
    {
     "data": {
      "text/plain": [
       "[5, 7, 9]"
      ]
     },
     "execution_count": 10,
     "metadata": {},
     "output_type": "execute_result"
    }
   ],
   "source": [
    "list(map(lambda x,y: x+y, [1,2,3],[4,5,6]))"
   ]
  },
  {
   "cell_type": "code",
   "execution_count": null,
   "id": "fbdff79a",
   "metadata": {},
   "outputs": [],
   "source": [
    "def quicksort(l):\n",
    "    a=l1[0]\n",
    "    n=len(l)\n",
    "    for i in range(1,n-1):\n",
    "        "
   ]
  },
  {
   "cell_type": "code",
   "execution_count": 22,
   "id": "8ee4d8a4",
   "metadata": {
    "ExecuteTime": {
     "end_time": "2023-03-24T13:01:31.918645Z",
     "start_time": "2023-03-24T13:01:31.913119Z"
    }
   },
   "outputs": [],
   "source": [
    "l=[11,254,10,2,14,223]\n",
    "n=len(l)\n",
    "def bs(l):\n",
    "    for i in range(n-1):\n",
    "        if l[i]<l[i+1]:\n",
    "            l[i],l[i+1]=l[i+1],l[i]\n",
    "            return bs(l) \n",
    "    return l"
   ]
  },
  {
   "cell_type": "code",
   "execution_count": 19,
   "id": "5eb40ca2",
   "metadata": {
    "ExecuteTime": {
     "end_time": "2023-03-24T12:47:34.554547Z",
     "start_time": "2023-03-24T12:47:34.538810Z"
    }
   },
   "outputs": [
    {
     "data": {
      "text/plain": [
       "[254, 223, 14, 11, 10, 2]"
      ]
     },
     "execution_count": 19,
     "metadata": {},
     "output_type": "execute_result"
    }
   ],
   "source": [
    "bs(l)"
   ]
  },
  {
   "cell_type": "code",
   "execution_count": 50,
   "id": "6a527c09",
   "metadata": {
    "ExecuteTime": {
     "end_time": "2023-03-24T13:08:31.277364Z",
     "start_time": "2023-03-24T13:08:31.259151Z"
    }
   },
   "outputs": [],
   "source": [
    "def qs(l):\n",
    "    if len(l)<1:\n",
    "        return l\n",
    "    else:\n",
    "        a=l[0]\n",
    "        low=[i for i in l[1:] if i<a]\n",
    "        hig=[i for i in l[1:] if i>=a]\n",
    "        return qs(low)+[a]+qs(hig)\n",
    "   "
   ]
  },
  {
   "cell_type": "code",
   "execution_count": 51,
   "id": "e7dfcf8a",
   "metadata": {
    "ExecuteTime": {
     "end_time": "2023-03-24T13:08:32.511771Z",
     "start_time": "2023-03-24T13:08:32.505772Z"
    }
   },
   "outputs": [
    {
     "data": {
      "text/plain": [
       "[2, 10, 11, 14, 223, 254]"
      ]
     },
     "execution_count": 51,
     "metadata": {},
     "output_type": "execute_result"
    }
   ],
   "source": [
    "qs(l)"
   ]
  },
  {
   "cell_type": "code",
   "execution_count": 41,
   "id": "6a8b5b64",
   "metadata": {
    "ExecuteTime": {
     "end_time": "2023-03-24T13:04:41.590150Z",
     "start_time": "2023-03-24T13:04:41.571030Z"
    }
   },
   "outputs": [],
   "source": [
    "def quicksort(l):\n",
    "    if len(l)<1:\n",
    "        return l\n",
    "    else:\n",
    "        p=l[0]\n",
    "        left=[x for x in l[1:] if x<p]\n",
    "        right=[x for x in l[1:] if x>=p]\n",
    "        return quicksort(left)+[p]+quicksort(right)"
   ]
  },
  {
   "cell_type": "code",
   "execution_count": 42,
   "id": "3aae9dc1",
   "metadata": {
    "ExecuteTime": {
     "end_time": "2023-03-24T13:04:41.996096Z",
     "start_time": "2023-03-24T13:04:41.978290Z"
    }
   },
   "outputs": [
    {
     "data": {
      "text/plain": [
       "[2, 10, 11, 14, 223, 254]"
      ]
     },
     "execution_count": 42,
     "metadata": {},
     "output_type": "execute_result"
    }
   ],
   "source": [
    "quicksort(l)"
   ]
  },
  {
   "cell_type": "code",
   "execution_count": 44,
   "id": "21d4bc55",
   "metadata": {
    "ExecuteTime": {
     "end_time": "2023-03-24T13:06:33.760462Z",
     "start_time": "2023-03-24T13:06:33.750816Z"
    }
   },
   "outputs": [],
   "source": [
    "a=l[0]\n",
    "low=[i for i in l[1:] if i<a]\n",
    "hig=[i for i in l[1:] if i>=a]"
   ]
  },
  {
   "cell_type": "code",
   "execution_count": 45,
   "id": "c8e94dc1",
   "metadata": {
    "ExecuteTime": {
     "end_time": "2023-03-24T13:06:38.211031Z",
     "start_time": "2023-03-24T13:06:38.200718Z"
    }
   },
   "outputs": [
    {
     "data": {
      "text/plain": [
       "[10, 2]"
      ]
     },
     "execution_count": 45,
     "metadata": {},
     "output_type": "execute_result"
    }
   ],
   "source": [
    "low"
   ]
  },
  {
   "cell_type": "code",
   "execution_count": 46,
   "id": "7da5c59c",
   "metadata": {
    "ExecuteTime": {
     "end_time": "2023-03-24T13:06:43.588002Z",
     "start_time": "2023-03-24T13:06:43.572882Z"
    }
   },
   "outputs": [
    {
     "data": {
      "text/plain": [
       "[254, 14, 223]"
      ]
     },
     "execution_count": 46,
     "metadata": {},
     "output_type": "execute_result"
    }
   ],
   "source": [
    "hig"
   ]
  },
  {
   "cell_type": "code",
   "execution_count": 47,
   "id": "bc71f793",
   "metadata": {
    "ExecuteTime": {
     "end_time": "2023-03-24T13:06:46.659111Z",
     "start_time": "2023-03-24T13:06:46.650238Z"
    }
   },
   "outputs": [
    {
     "data": {
      "text/plain": [
       "11"
      ]
     },
     "execution_count": 47,
     "metadata": {},
     "output_type": "execute_result"
    }
   ],
   "source": [
    "a"
   ]
  },
  {
   "cell_type": "code",
   "execution_count": 15,
   "id": "77670fbd",
   "metadata": {
    "ExecuteTime": {
     "end_time": "2023-04-23T09:45:40.007994Z",
     "start_time": "2023-04-23T09:45:39.992994Z"
    }
   },
   "outputs": [],
   "source": [
    "l=[22,4,11,544,58,47,10.5,889,7]"
   ]
  },
  {
   "cell_type": "code",
   "execution_count": 46,
   "id": "6dad7fb4",
   "metadata": {
    "ExecuteTime": {
     "end_time": "2023-04-23T11:28:59.404883Z",
     "start_time": "2023-04-23T11:28:59.393002Z"
    }
   },
   "outputs": [
    {
     "name": "stdout",
     "output_type": "stream",
     "text": [
      "5 : [1, 2, 3, 4, 5]\n"
     ]
    }
   ],
   "source": [
    "l=[1,1,1,1,2,2,2,3,3,4,4,5,5,5,5]\n",
    "list=[]\n",
    "index=1\n",
    "list.append(l[0])\n",
    "for i in range(len(l)-1):\n",
    "    if l[i] != l[i+1]:\n",
    "        list.append(l[i+1])\n",
    "        index=index+1\n",
    "print(index,\":\",list)"
   ]
  },
  {
   "cell_type": "code",
   "execution_count": 45,
   "id": "260e5820",
   "metadata": {
    "ExecuteTime": {
     "end_time": "2023-04-23T11:28:27.119541Z",
     "start_time": "2023-04-23T11:28:27.111046Z"
    }
   },
   "outputs": [
    {
     "data": {
      "text/plain": [
       "range(0, 3)"
      ]
     },
     "execution_count": 45,
     "metadata": {},
     "output_type": "execute_result"
    }
   ],
   "source": [
    "range(3)"
   ]
  },
  {
   "cell_type": "code",
   "execution_count": 50,
   "id": "187b62ae",
   "metadata": {
    "ExecuteTime": {
     "end_time": "2023-04-23T11:46:11.805512Z",
     "start_time": "2023-04-23T11:46:11.799513Z"
    }
   },
   "outputs": [],
   "source": [
    "\n",
    "def remove_duplicates(list1):\n",
    "    list2=[]\n",
    "    for i in list1:\n",
    "        if i not in list2:\n",
    "            list2.append(i)\n",
    "    return len(list2),list2"
   ]
  },
  {
   "cell_type": "code",
   "execution_count": 51,
   "id": "ba40261f",
   "metadata": {
    "ExecuteTime": {
     "end_time": "2023-04-23T11:46:22.199078Z",
     "start_time": "2023-04-23T11:46:22.180094Z"
    }
   },
   "outputs": [
    {
     "data": {
      "text/plain": [
       "(5, [1, 2, 3, 4, 5])"
      ]
     },
     "execution_count": 51,
     "metadata": {},
     "output_type": "execute_result"
    }
   ],
   "source": [
    "remove_duplicates(l)"
   ]
  },
  {
   "cell_type": "code",
   "execution_count": 5,
   "id": "d98ba660",
   "metadata": {
    "ExecuteTime": {
     "end_time": "2023-04-23T12:53:47.904578Z",
     "start_time": "2023-04-23T12:53:47.894566Z"
    }
   },
   "outputs": [
    {
     "name": "stdout",
     "output_type": "stream",
     "text": [
      "[1, 2, 3]\n",
      "[1, 3, 2]\n",
      "[2, 1, 3]\n",
      "[2, 3, 1]\n",
      "[3, 1, 2]\n",
      "[3, 2, 1]\n"
     ]
    }
   ],
   "source": [
    "#permutations of given list\n",
    "lis=[1,2,3]\n",
    "def get_p(list):\n",
    "    if len(list)<1:\n",
    "        return [[]]\n",
    "    else:\n",
    "        result=[]\n",
    "        for i in range(len(list)):\n",
    "            current=list[i]\n",
    "            remain=list[:i]+list[i+1:]\n",
    "            for p in get_p(remain):\n",
    "                result.append([current] + p)\n",
    "    return result\n",
    "\n",
    "get_p(lis)\n",
    "\n",
    "for i in get_p(lis):\n",
    "    print(i)"
   ]
  },
  {
   "cell_type": "code",
   "execution_count": null,
   "id": "ec5c21d4",
   "metadata": {},
   "outputs": [],
   "source": []
  }
 ],
 "metadata": {
  "kernelspec": {
   "display_name": "Python 3 (ipykernel)",
   "language": "python",
   "name": "python3"
  },
  "language_info": {
   "codemirror_mode": {
    "name": "ipython",
    "version": 3
   },
   "file_extension": ".py",
   "mimetype": "text/x-python",
   "name": "python",
   "nbconvert_exporter": "python",
   "pygments_lexer": "ipython3",
   "version": "3.9.13"
  }
 },
 "nbformat": 4,
 "nbformat_minor": 5
}
